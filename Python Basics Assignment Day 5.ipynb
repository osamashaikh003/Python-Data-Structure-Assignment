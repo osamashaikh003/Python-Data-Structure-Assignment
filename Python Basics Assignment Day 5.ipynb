{
 "cells": [
  {
   "cell_type": "markdown",
   "metadata": {
    "id": "yVE7L7dorP4H"
   },
   "source": [
    "<a id='1'></a><center> <h3 style=\"background-color:orange; color:white\" ><br>Python Basics<br></h3>"
   ]
  },
  {
   "cell_type": "code",
   "execution_count": 1,
   "metadata": {
    "colab": {
     "base_uri": "https://localhost:8080/"
    },
    "id": "kOtDhbwWrP4I",
    "outputId": "9eb6735c-a4aa-4146-93ce-80536a6d77f6"
   },
   "outputs": [
    {
     "name": "stdout",
     "output_type": "stream",
     "text": [
      "Osama\n"
     ]
    }
   ],
   "source": [
    "# What is your name! print your name! \n",
    "# Only use one print function\n",
    "\n",
    "print('Osama')"
   ]
  },
  {
   "cell_type": "markdown",
   "metadata": {
    "id": "kJxHTHrVrP4I"
   },
   "source": [
    "* `()` <= `Parentheses`\n",
    "* `''` <= `Single Quotes`\n",
    "* `\"\"` <= `Double Quotes`\n",
    "* `\\n` <= `New_line `\n",
    "* `#` <= `Used to comment inside code`"
   ]
  },
  {
   "cell_type": "code",
   "execution_count": 3,
   "metadata": {
    "id": "hqiWhz6srP4K"
   },
   "outputs": [],
   "source": [
    "# define variables named as with values: mukesh=7, z=6, rohan=5, longitude=4\n",
    "mukesh=7\n",
    "z=6\n",
    "rohan=5\n",
    "longitude=4"
   ]
  },
  {
   "cell_type": "code",
   "execution_count": 4,
   "metadata": {
    "colab": {
     "base_uri": "https://localhost:8080/"
    },
    "id": "W77FFVIqrP4K",
    "outputId": "cf4ab741-3257-4600-b001-640f62879305"
   },
   "outputs": [
    {
     "name": "stdout",
     "output_type": "stream",
     "text": [
      "5\n"
     ]
    }
   ],
   "source": [
    "# print required variable\n",
    "if rohan==5:\n",
    "    print(rohan)\n",
    "else:\n",
    "    print('Not Matched')\n",
    "# output - 5\n"
   ]
  },
  {
   "cell_type": "markdown",
   "metadata": {
    "id": "89kwQhu5rP4K"
   },
   "source": [
    "Variable Assignment:\n",
    "**`Variable_Name = Value`**\n",
    "\n",
    "Variables Naming Rules:\n",
    "* `Python is case-senstive` => x=5 is different from X=5 (one is lowe and other is upper case)\n",
    "* `var name can't start with special character except underscore(_)` => _X = 7 is `valid`, @X = 7 is `invalid`\n",
    "* `var name can't start with number` => 9X = 7 is `invalid`, X9 = 7 is `valid`\n",
    "* can't use `keywords` as a variable name\n",
    "    * "
   ]
  },
  {
   "cell_type": "markdown",
   "metadata": {
    "id": "hiYt4qiJrP4K"
   },
   "source": [
    "# **`Declaring a Variable`** <br>\n"
   ]
  },
  {
   "cell_type": "code",
   "execution_count": 5,
   "metadata": {
    "id": "5pomjoc_rP4L"
   },
   "outputs": [],
   "source": [
    "# declare 4 variables with values as: ur_age 21,ur_weight 50.6, ur_first_name = 'Mukesh',ur_last_name = \"Manral\"\n",
    "ur_age=21\n",
    "ur_weight=50.6\n",
    "ur_first_name='Mukesh'\n",
    "ur_last_name='Manral'"
   ]
  },
  {
   "cell_type": "markdown",
   "metadata": {
    "id": "aD6_WvkKrP4L"
   },
   "source": [
    "# **`Data Type(Type of variable)`**"
   ]
  },
  {
   "cell_type": "markdown",
   "metadata": {
    "id": "snzoPkD3rP4L"
   },
   "source": [
    "| Name | Type | Description |\n",
    "| ---- | ---- | ----| \n",
    "|Integers | int | Integer number, like 34,-56 ...|\n",
    "|Float | float | Decimal number, like 3.4,-5.6 ...|\n",
    "|String| str | Ordered sequence of characters, like 'your name' |\n",
    "|Boolean |bool |Logical values indicating True or False only |"
   ]
  },
  {
   "cell_type": "code",
   "execution_count": 10,
   "metadata": {
    "colab": {
     "base_uri": "https://localhost:8080/"
    },
    "id": "Bb_fmhaOrP4L",
    "outputId": "6bca97e1-0501-4cc3-fde2-7753f1ccbb1e"
   },
   "outputs": [
    {
     "name": "stdout",
     "output_type": "stream",
     "text": [
      "<class 'int'>\n",
      "<class 'float'>\n",
      "<class 'str'>\n",
      "<class 'str'>\n"
     ]
    }
   ],
   "source": [
    "# print type of ur_age,ur_weight,ur_first_name,ur_last_name variables\n",
    "print(type(ur_age))\n",
    "print(type(ur_weight))\n",
    "print(type(ur_first_name))\n",
    "print(type(ur_last_name))"
   ]
  },
  {
   "cell_type": "code",
   "execution_count": 11,
   "metadata": {
    "colab": {
     "base_uri": "https://localhost:8080/"
    },
    "id": "iaADKqUwrP4L",
    "outputId": "b9ad6169-2218-45a0-aa88-dd710eafda97"
   },
   "outputs": [
    {
     "name": "stdout",
     "output_type": "stream",
     "text": [
      "21 50.6 Mukesh Manral\n"
     ]
    }
   ],
   "source": [
    "# print values of ur_age,ur_weight,ur_first_name,ur_last_name variables\n",
    "print(ur_age,ur_weight,ur_first_name,ur_last_name)"
   ]
  },
  {
   "cell_type": "code",
   "execution_count": 19,
   "metadata": {
    "colab": {
     "base_uri": "https://localhost:8080/"
    },
    "id": "Hde3D2uQrP4L",
    "outputId": "c1a16b4e-14d9-402d-c994-a26d2bde4a50"
   },
   "outputs": [
    {
     "name": "stdout",
     "output_type": "stream",
     "text": [
      "True\n"
     ]
    }
   ],
   "source": [
    "# make 2 variables with values as: ur_first_name 'Mukesh',ur_last_name'Mukesh' \n",
    "ur_first_name ='Mukesh'\n",
    "ur_last_name='Mukesh' \n",
    "# make a variable TrueOrFalse which will have comparison of variables ur_last_name == ur_first_name \n",
    "\n",
    "TrueOrFalse=ur_first_name==ur_last_name\n",
    "print(TrueOrFalse)"
   ]
  },
  {
   "cell_type": "code",
   "execution_count": null,
   "metadata": {},
   "outputs": [],
   "source": []
  },
  {
   "cell_type": "code",
   "execution_count": 20,
   "metadata": {
    "id": "39JWxM7KrP4M"
   },
   "outputs": [
    {
     "name": "stdout",
     "output_type": "stream",
     "text": [
      "777\n"
     ]
    }
   ],
   "source": [
    "# define a variable name \"x\" and assign value 777 and print it\n",
    "x=777\n",
    "print(x)"
   ]
  },
  {
   "cell_type": "markdown",
   "metadata": {
    "id": "QXnovK7lrP4M"
   },
   "source": [
    "* To view some data on screen, python have `print` function\n",
    "    * Using `print` function we can control view on output screen\n"
   ]
  },
  {
   "cell_type": "code",
   "execution_count": null,
   "metadata": {},
   "outputs": [],
   "source": []
  },
  {
   "cell_type": "markdown",
   "metadata": {
    "id": "4Wfm35b4rP4P"
   },
   "source": [
    "`Operators`: Symbols that represent mathematical or logical tasks \n",
    "\n",
    "Example:<br>\n",
    "`700` `+` `77`<br>\n",
    "* `+` <= Operator\n",
    "* `700` & `77` <= Operands\n"
   ]
  },
  {
   "cell_type": "code",
   "execution_count": 21,
   "metadata": {
    "id": "9eHULNrarP4Q"
   },
   "outputs": [],
   "source": [
    "# Initialize variables [x,y,z,zz] with values \n",
    "## x as 7 =>int ,\n",
    "## y as 77 =>int, \n",
    "## z as 77.7 => float, \n",
    "## zz as 'Hi' => string\n",
    "x=7\n",
    "y=77\n",
    "z==77.7\n",
    "zz='Hi'"
   ]
  },
  {
   "cell_type": "markdown",
   "metadata": {
    "id": "kMGlbyturP4Q"
   },
   "source": [
    "# **`Arithmetic Operators`**"
   ]
  },
  {
   "cell_type": "code",
   "execution_count": 22,
   "metadata": {
    "colab": {
     "base_uri": "https://localhost:8080/"
    },
    "id": "_7X7ChdtrP4Q",
    "outputId": "1dbd8902-3386-49a7-b7ab-77cab5607148"
   },
   "outputs": [
    {
     "data": {
      "text/plain": [
       "13"
      ]
     },
     "execution_count": 22,
     "metadata": {},
     "output_type": "execute_result"
    }
   ],
   "source": [
    "# add x and z\n",
    "x+z"
   ]
  },
  {
   "cell_type": "code",
   "execution_count": 23,
   "metadata": {
    "colab": {
     "base_uri": "https://localhost:8080/"
    },
    "id": "VWA9vqXbrP4R",
    "outputId": "745699ba-9525-4db1-e9bf-73270a08ec54"
   },
   "outputs": [
    {
     "data": {
      "text/plain": [
       "-71"
      ]
     },
     "execution_count": 23,
     "metadata": {},
     "output_type": "execute_result"
    }
   ],
   "source": [
    "# subtract z and y\n",
    "z-y"
   ]
  },
  {
   "cell_type": "code",
   "execution_count": 24,
   "metadata": {
    "colab": {
     "base_uri": "https://localhost:8080/"
    },
    "id": "Xs-S0MhCrP4R",
    "outputId": "ee8c602f-13fd-4a63-d9b4-d93fe416f6b7"
   },
   "outputs": [
    {
     "data": {
      "text/plain": [
       "42"
      ]
     },
     "execution_count": 24,
     "metadata": {},
     "output_type": "execute_result"
    }
   ],
   "source": [
    "# Multiply x and z\n",
    "x*z"
   ]
  },
  {
   "cell_type": "code",
   "execution_count": 25,
   "metadata": {
    "colab": {
     "base_uri": "https://localhost:8080/"
    },
    "id": "QTAL9jikrP4R",
    "outputId": "27632a7c-1571-4fc3-fb53-40b5804319b6"
   },
   "outputs": [
    {
     "data": {
      "text/plain": [
       "117649"
      ]
     },
     "execution_count": 25,
     "metadata": {},
     "output_type": "execute_result"
    }
   ],
   "source": [
    "# Exponent (raise the power or times) x times z\n",
    "x**z"
   ]
  },
  {
   "cell_type": "code",
   "execution_count": 26,
   "metadata": {
    "colab": {
     "base_uri": "https://localhost:8080/"
    },
    "id": "veuOn9YcrP4R",
    "outputId": "1bf677bd-5b4a-49e0-f0a6-f93ea487ccf6"
   },
   "outputs": [
    {
     "data": {
      "text/plain": [
       "1.1666666666666667"
      ]
     },
     "execution_count": 26,
     "metadata": {},
     "output_type": "execute_result"
    }
   ],
   "source": [
    "# division on x and z\n",
    "x/z"
   ]
  },
  {
   "cell_type": "markdown",
   "metadata": {
    "id": "lPSllBVYrP4R"
   },
   "source": [
    "`//` => divides and returns integer value of quotient\n",
    "* It will dump digits after decimal"
   ]
  },
  {
   "cell_type": "code",
   "execution_count": 27,
   "metadata": {
    "colab": {
     "base_uri": "https://localhost:8080/"
    },
    "id": "LjvFNdDHrP4R",
    "outputId": "74247edc-70c0-4860-d3ec-fd38c9fc6ff1"
   },
   "outputs": [
    {
     "data": {
      "text/plain": [
       "1"
      ]
     },
     "execution_count": 27,
     "metadata": {},
     "output_type": "execute_result"
    }
   ],
   "source": [
    "# floor division(ignores decimal) on x and z (gives quotient)\n",
    "x//z"
   ]
  },
  {
   "cell_type": "code",
   "execution_count": 28,
   "metadata": {
    "colab": {
     "base_uri": "https://localhost:8080/"
    },
    "id": "prGaXfI2rP4R",
    "outputId": "ffdfa431-8d36-40b1-a2d6-3a428e3b1e2d"
   },
   "outputs": [
    {
     "data": {
      "text/plain": [
       "1"
      ]
     },
     "execution_count": 28,
     "metadata": {},
     "output_type": "execute_result"
    }
   ],
   "source": [
    "# Modulo(gives remainder) on x and z\n",
    "x%z"
   ]
  },
  {
   "cell_type": "markdown",
   "metadata": {
    "id": "BqiZFRnxrP4R"
   },
   "source": [
    "# **`Comparison Operators`**"
   ]
  },
  {
   "cell_type": "code",
   "execution_count": 29,
   "metadata": {
    "colab": {
     "base_uri": "https://localhost:8080/"
    },
    "id": "cZTjTlksrP4S",
    "outputId": "338815ee-53ee-42f3-80b6-59933758768b"
   },
   "outputs": [
    {
     "data": {
      "text/plain": [
       "False"
      ]
     },
     "execution_count": 29,
     "metadata": {},
     "output_type": "execute_result"
    }
   ],
   "source": [
    "# comapre and see if x is less then z \n",
    "# can use '<' symbol\n",
    "\n",
    "x<z"
   ]
  },
  {
   "cell_type": "code",
   "execution_count": 30,
   "metadata": {
    "colab": {
     "base_uri": "https://localhost:8080/"
    },
    "id": "ugLB8T4zrP4S",
    "outputId": "4cf49f24-87d6-4d8e-dee3-4301e9d554f7"
   },
   "outputs": [
    {
     "data": {
      "text/plain": [
       "bool"
      ]
     },
     "execution_count": 30,
     "metadata": {},
     "output_type": "execute_result"
    }
   ],
   "source": [
    "# check the type of above comaprison where it says comapre and see if x is less then z \n",
    "type(x<z)"
   ]
  },
  {
   "cell_type": "markdown",
   "metadata": {
    "id": "JvyfWt8NrP4S"
   },
   "source": [
    "* `Bool` => takes two values, either `True` or `False`"
   ]
  },
  {
   "cell_type": "code",
   "execution_count": 31,
   "metadata": {
    "colab": {
     "base_uri": "https://localhost:8080/"
    },
    "id": "qrLXc7h8rP4S",
    "outputId": "1106e876-fae9-461d-f44d-605e0be52441"
   },
   "outputs": [
    {
     "data": {
      "text/plain": [
       "False"
      ]
     },
     "execution_count": 31,
     "metadata": {},
     "output_type": "execute_result"
    }
   ],
   "source": [
    "# compare and see if x is less then or equall to z\n",
    "# can use '<=' symbol\n",
    "x<=z"
   ]
  },
  {
   "cell_type": "code",
   "execution_count": 32,
   "metadata": {
    "colab": {
     "base_uri": "https://localhost:8080/"
    },
    "id": "QITa8mAorP4S",
    "outputId": "ec6dc405-eb0e-46a3-c167-da700179af34"
   },
   "outputs": [
    {
     "data": {
      "text/plain": [
       "False"
      ]
     },
     "execution_count": 32,
     "metadata": {},
     "output_type": "execute_result"
    }
   ],
   "source": [
    "# comapre and see if x equall to z\n",
    "# can use '==' symbol\n",
    "x==z"
   ]
  },
  {
   "cell_type": "code",
   "execution_count": 33,
   "metadata": {
    "colab": {
     "base_uri": "https://localhost:8080/"
    },
    "id": "to09wf4lrP4S",
    "outputId": "592d9cad-2331-44fe-b199-92bd286aef93"
   },
   "outputs": [
    {
     "data": {
      "text/plain": [
       "True"
      ]
     },
     "execution_count": 33,
     "metadata": {},
     "output_type": "execute_result"
    }
   ],
   "source": [
    "# comapre and see if x is greater than z\n",
    "# can use '>' symbol\n",
    "x>z"
   ]
  },
  {
   "cell_type": "code",
   "execution_count": 34,
   "metadata": {
    "colab": {
     "base_uri": "https://localhost:8080/"
    },
    "id": "3XjJEvQmrP4S",
    "outputId": "2ec0ecc4-ca4e-4aab-e8a0-565cc4ffcf9d"
   },
   "outputs": [
    {
     "data": {
      "text/plain": [
       "True"
      ]
     },
     "execution_count": 34,
     "metadata": {},
     "output_type": "execute_result"
    }
   ],
   "source": [
    "# comapre and see if x is greater than or equall to z\n",
    "# can use '>=' symbol\n",
    "x>=z"
   ]
  },
  {
   "cell_type": "code",
   "execution_count": 35,
   "metadata": {
    "colab": {
     "base_uri": "https://localhost:8080/"
    },
    "id": "U3R4NtLUrP4S",
    "outputId": "8139031e-7e45-4a66-96f6-ebcf85df150b"
   },
   "outputs": [
    {
     "data": {
      "text/plain": [
       "True"
      ]
     },
     "execution_count": 35,
     "metadata": {},
     "output_type": "execute_result"
    }
   ],
   "source": [
    "# comapre and see if x is Not equall to z\n",
    "# can use '!=' symbol\n",
    "x!=z\n"
   ]
  },
  {
   "cell_type": "markdown",
   "metadata": {
    "id": "i1cSXmgbrP4T"
   },
   "source": [
    "# **`Logical Operators`**"
   ]
  },
  {
   "cell_type": "code",
   "execution_count": 36,
   "metadata": {
    "colab": {
     "base_uri": "https://localhost:8080/"
    },
    "id": "qrf5nOLerP4T",
    "outputId": "5b5bad4d-6568-4e8a-f606-fa5850986071"
   },
   "outputs": [
    {
     "data": {
      "text/plain": [
       "True"
      ]
     },
     "execution_count": 36,
     "metadata": {},
     "output_type": "execute_result"
    }
   ],
   "source": [
    "# compare if 108 is equall to 108, 21 is equall to 21 using logical and \n",
    "# equall to => '=='\n",
    "# logical and => and\n",
    "108==108 and 21==21\n",
    "# in and both condition must be True to get a True"
   ]
  },
  {
   "cell_type": "code",
   "execution_count": 37,
   "metadata": {
    "colab": {
     "base_uri": "https://localhost:8080/"
    },
    "id": "Zp51tX7NrP4T",
    "outputId": "613342d8-4d42-4d16-b44e-c1751f71b01a"
   },
   "outputs": [
    {
     "data": {
      "text/plain": [
       "False"
      ]
     },
     "execution_count": 37,
     "metadata": {},
     "output_type": "execute_result"
    }
   ],
   "source": [
    "# how above condition can give False as output show all those conditions\n",
    "108!=108 and 21==21\n",
    "108==108 and 21!=21\n",
    "108==109 and 21==21\n",
    "108==108 and 21==22"
   ]
  },
  {
   "cell_type": "code",
   "execution_count": 38,
   "metadata": {
    "colab": {
     "base_uri": "https://localhost:8080/"
    },
    "id": "TRMHLAHkrP4T",
    "outputId": "f6e7a8a2-395e-405c-9669-b6c7238ad97a"
   },
   "outputs": [
    {
     "data": {
      "text/plain": [
       "True"
      ]
     },
     "execution_count": 38,
     "metadata": {},
     "output_type": "execute_result"
    }
   ],
   "source": [
    "# compare if 108 is equall to 108, 21 is equall to 11 using logical or\n",
    "# equall to => '=='\n",
    "# logical or => or\n",
    "108==108 or 21==11\n",
    "# in or Only one condition need to be True to get a True"
   ]
  },
  {
   "cell_type": "code",
   "execution_count": 31,
   "metadata": {
    "colab": {
     "base_uri": "https://localhost:8080/"
    },
    "execution": {
     "iopub.execute_input": "2021-12-13T11:22:58.998022Z",
     "iopub.status.busy": "2021-12-13T11:22:58.997422Z",
     "iopub.status.idle": "2021-12-13T11:22:59.004662Z",
     "shell.execute_reply": "2021-12-13T11:22:59.003884Z",
     "shell.execute_reply.started": "2021-12-13T11:22:58.997978Z"
    },
    "id": "QQRfWOkzrP4T",
    "outputId": "69a82d41-b61d-4183-ca01-c3550b5553f0"
   },
   "outputs": [
    {
     "data": {
      "text/plain": [
       "True"
      ]
     },
     "execution_count": 31,
     "metadata": {},
     "output_type": "execute_result"
    }
   ],
   "source": [
    "# this is for you to understand it\n",
    "(108 == 108) or (21 == 11) or (108 <= 11)"
   ]
  },
  {
   "cell_type": "code",
   "execution_count": null,
   "metadata": {},
   "outputs": [],
   "source": []
  },
  {
   "cell_type": "markdown",
   "metadata": {
    "id": "r5LWKR-irP4T"
   },
   "source": [
    "# **`if`--- `else`** => to handle single condition <br>\n",
    "# **`if`--- `elif`--- `else`** => to handle Multiple condition"
   ]
  },
  {
   "cell_type": "markdown",
   "metadata": {
    "id": "_7lo_XpYrP4U"
   },
   "source": [
    "`Observe in Python code:` \n",
    "* `if` => statement in python\n",
    "* `else` => statement in python\n",
    "* `:` => colon => denotes start of if block i.e. any line written after colon belong to if condition\n",
    "* `....` => see then as indentation i.e. 4 spaces => indentation indicates all code belong to only if and then another indentation indicates code for only else block "
   ]
  },
  {
   "cell_type": "code",
   "execution_count": 39,
   "metadata": {
    "colab": {
     "base_uri": "https://localhost:8080/"
    },
    "id": "e2SpODuorP4U",
    "outputId": "c32da32f-2a21-4e62-dc8a-ac11e9d307f7"
   },
   "outputs": [
    {
     "name": "stdout",
     "output_type": "stream",
     "text": [
      "100000\n"
     ]
    }
   ],
   "source": [
    "# make variable with value as : money 100000\n",
    "money=100000\n",
    "# see output of money > 2000 \n",
    "if money>2000:\n",
    "    print(money)"
   ]
  },
  {
   "cell_type": "code",
   "execution_count": 40,
   "metadata": {
    "colab": {
     "base_uri": "https://localhost:8080/"
    },
    "id": "8rLKbxCqrP4U",
    "outputId": "51aa49a6-d403-4292-8190-e23354ccda3b"
   },
   "outputs": [
    {
     "name": "stdout",
     "output_type": "stream",
     "text": [
      "data science course fee\n"
     ]
    }
   ],
   "source": [
    "# assign money variable value of 10000\n",
    "##### say you have this much ammount in your account\n",
    "balance=10000\n",
    "# start of if condition\n",
    "# if money is greater then 1000 which is data science course free\n",
    "# if money > 1000 is false i.e. you have less money then 1000 in your account then else will work for now only if is working\n",
    "if money>1000:\n",
    "    print('data science course fee')\n",
    "else:\n",
    "    print('Low Bank Balance')"
   ]
  },
  {
   "cell_type": "code",
   "execution_count": 37,
   "metadata": {
    "colab": {
     "base_uri": "https://localhost:8080/"
    },
    "execution": {
     "iopub.execute_input": "2021-12-13T12:12:40.145964Z",
     "iopub.status.busy": "2021-12-13T12:12:40.145355Z",
     "iopub.status.idle": "2021-12-13T12:12:45.469908Z",
     "shell.execute_reply": "2021-12-13T12:12:45.469259Z",
     "shell.execute_reply.started": "2021-12-13T12:12:40.145915Z"
    },
    "id": "UkSB0BDKrP4V",
    "outputId": "95379bf8-12f8-49a8-abbe-412385fa278c"
   },
   "outputs": [],
   "source": [
    "# take a test_score variable with 80 in it.\n",
    "\n",
    "# if test_score greater then 80 then print A grade\n",
    "# elif test_score greater then 60 and less then 80 print B grade\n",
    "# else print Nothing for you"
   ]
  },
  {
   "cell_type": "code",
   "execution_count": 41,
   "metadata": {},
   "outputs": [
    {
     "name": "stdout",
     "output_type": "stream",
     "text": [
      "Nothing for you\n"
     ]
    }
   ],
   "source": [
    "test_score=80\n",
    "\n",
    "if test_score>80:\n",
    "    print('A Grade')\n",
    "elif test_score>60 and test_score<80:\n",
    "    print('B Grade')\n",
    "else:\n",
    "    print('Nothing for you')"
   ]
  },
  {
   "cell_type": "markdown",
   "metadata": {},
   "source": [
    "# **`Python Loops`**"
   ]
  },
  {
   "cell_type": "code",
   "execution_count": 39,
   "metadata": {
    "colab": {
     "base_uri": "https://localhost:8080/",
     "height": 38
    },
    "id": "UsOavUkNrP4X",
    "outputId": "6a576f4b-5655-4091-e59b-722ecdd3f3fb"
   },
   "outputs": [
    {
     "data": {
      "text/plain": [
       "'\\nfor iterating_variable in sequence:\\n    statement(s)\\n'"
      ]
     },
     "execution_count": 39,
     "metadata": {},
     "output_type": "execute_result"
    }
   ],
   "source": [
    "\"\"\"\n",
    "for iterating_variable in sequence:\n",
    "    statement(s)\n",
    "\"\"\""
   ]
  },
  {
   "cell_type": "code",
   "execution_count": 40,
   "metadata": {
    "colab": {
     "base_uri": "https://localhost:8080/"
    },
    "execution": {
     "iopub.execute_input": "2021-12-14T05:27:42.974824Z",
     "iopub.status.busy": "2021-12-14T05:27:42.973933Z",
     "iopub.status.idle": "2021-12-14T05:27:42.981157Z",
     "shell.execute_reply": "2021-12-14T05:27:42.980185Z",
     "shell.execute_reply.started": "2021-12-14T05:27:42.97478Z"
    },
    "id": "v3DtstO3rP4X",
    "outputId": "3138dfad-be46-49d8-a0aa-8e74c8855a9d"
   },
   "outputs": [
    {
     "name": "stdout",
     "output_type": "stream",
     "text": [
      "0\n",
      "1\n",
      "2\n",
      "3\n",
      "4\n",
      "5\n",
      "6\n",
      "7\n",
      "8\n",
      "9\n"
     ]
    }
   ],
   "source": [
    "for iterating_variable in range(10):\n",
    "    print(iterating_variable)"
   ]
  },
  {
   "cell_type": "code",
   "execution_count": 44,
   "metadata": {
    "colab": {
     "base_uri": "https://localhost:8080/"
    },
    "id": "nD9f1mMwrP4X",
    "outputId": "a087b7d8-d4b9-4f11-8d45-f3c460ea562e"
   },
   "outputs": [
    {
     "name": "stdout",
     "output_type": "stream",
     "text": [
      "I love sports\n",
      "I love sports\n",
      "I love sports\n",
      "I love sports\n",
      "I love sports\n",
      "I love sports\n",
      "I love sports\n",
      "I love sports\n",
      "I love sports\n",
      "I love sports\n"
     ]
    }
   ],
   "source": [
    "# print 'I love sports' 10 times using for loop\n",
    "\n",
    "for x in range(10):\n",
    "    print('I love sports')"
   ]
  },
  {
   "cell_type": "markdown",
   "metadata": {
    "id": "F10cQq2RrP4X"
   },
   "source": [
    "`10` => `stoping criteria` of, for loop"
   ]
  },
  {
   "cell_type": "markdown",
   "metadata": {
    "id": "sYmBZqXkrP4X"
   },
   "source": [
    "* `in` => keyword\n",
    "* `sequence` => on which to itterate\n",
    "* `:` => colon , start of for loop"
   ]
  },
  {
   "cell_type": "markdown",
   "metadata": {
    "id": "nR0WJpXwrP4X"
   },
   "source": [
    "`!=` = not equall to => `behaves as a stoping criteria`"
   ]
  },
  {
   "cell_type": "code",
   "execution_count": 42,
   "metadata": {
    "colab": {
     "base_uri": "https://localhost:8080/",
     "height": 38
    },
    "execution": {
     "iopub.status.busy": "2021-12-11T05:18:11.230229Z",
     "iopub.status.idle": "2021-12-11T05:18:11.230505Z",
     "shell.execute_reply": "2021-12-11T05:18:11.230373Z",
     "shell.execute_reply.started": "2021-12-11T05:18:11.230358Z"
    },
    "id": "vYJsdLnerP4Y",
    "outputId": "44686682-2f3a-4522-bdf4-84215e4a8f17"
   },
   "outputs": [
    {
     "data": {
      "text/plain": [
       "'\\nwhile comparison:\\n    statements(s)\\n'"
      ]
     },
     "execution_count": 42,
     "metadata": {},
     "output_type": "execute_result"
    }
   ],
   "source": [
    "# Syntax of while loop\n",
    "\"\"\"\n",
    "while comparison:\n",
    "    statements(s)\n",
    "\"\"\""
   ]
  },
  {
   "cell_type": "code",
   "execution_count": 47,
   "metadata": {
    "colab": {
     "base_uri": "https://localhost:8080/"
    },
    "id": "No1lV66XrP4Y",
    "outputId": "6d6d01cd-2c11-499b-e593-ac9fa8dcc629"
   },
   "outputs": [
    {
     "name": "stdout",
     "output_type": "stream",
     "text": [
      "0\n",
      "1\n",
      "2\n",
      "3\n",
      "4\n",
      "5\n",
      "6\n",
      "7\n",
      "8\n",
      "9\n",
      "10\n"
     ]
    }
   ],
   "source": [
    "# while loop\n",
    "\n",
    "# save 0 in variable number\n",
    "\n",
    "# print till 10 using while loop\n",
    "x=0\n",
    "while x!=11:\n",
    "    print(x)\n",
    "    x+=1"
   ]
  },
  {
   "cell_type": "markdown",
   "metadata": {
    "id": "9oFT7qEjrP4Y"
   },
   "source": [
    "* Initialized variable `number = 0` and then increment it's value in each iteration\n",
    "* Loop will only continue to run only if value is less than 10"
   ]
  },
  {
   "cell_type": "markdown",
   "metadata": {
    "id": "ZFHHxSeqrP4Z"
   },
   "source": [
    "# **`Type of Jump Statements`** <br>\n",
    "`Break Statement`\n",
    "`Continue Statement`"
   ]
  },
  {
   "cell_type": "markdown",
   "metadata": {
    "id": "2TlMjfJVrP4a"
   },
   "source": [
    "# **`Break Statement`**\n"
   ]
  },
  {
   "cell_type": "code",
   "execution_count": 45,
   "metadata": {
    "colab": {
     "base_uri": "https://localhost:8080/"
    },
    "execution": {
     "iopub.execute_input": "2021-12-14T09:25:34.60943Z",
     "iopub.status.busy": "2021-12-14T09:25:34.609121Z",
     "iopub.status.idle": "2021-12-14T09:25:34.617876Z",
     "shell.execute_reply": "2021-12-14T09:25:34.616894Z",
     "shell.execute_reply.started": "2021-12-14T09:25:34.609398Z"
    },
    "id": "9E-BFzqUrP4a",
    "outputId": "785d296c-e195-4af8-ce70-784cc9bd2447"
   },
   "outputs": [],
   "source": [
    "# example that uses break statement in a for loop\n",
    "\n",
    "# take range(10) and print 'The number is' + value\n",
    "# break when num equals 5\n"
   ]
  },
  {
   "cell_type": "code",
   "execution_count": 1,
   "metadata": {},
   "outputs": [
    {
     "name": "stdout",
     "output_type": "stream",
     "text": [
      "The number is  0\n",
      "The number is  1\n",
      "The number is  2\n",
      "The number is  3\n",
      "The number is  4\n"
     ]
    }
   ],
   "source": [
    "for i in range(10):\n",
    "    if i==5:\n",
    "        break\n",
    "    print('The number is ',i)"
   ]
  },
  {
   "cell_type": "markdown",
   "metadata": {
    "id": "oPN-KW8ErP4a"
   },
   "source": [
    "# **`Continue Statement`**\n"
   ]
  },
  {
   "cell_type": "code",
   "execution_count": 47,
   "metadata": {
    "colab": {
     "base_uri": "https://localhost:8080/"
    },
    "execution": {
     "iopub.execute_input": "2021-12-14T06:14:44.160916Z",
     "iopub.status.busy": "2021-12-14T06:14:44.160579Z",
     "iopub.status.idle": "2021-12-14T06:14:44.169578Z",
     "shell.execute_reply": "2021-12-14T06:14:44.168622Z",
     "shell.execute_reply.started": "2021-12-14T06:14:44.160884Z"
    },
    "id": "I7RGHGcDrP4a",
    "outputId": "1623dadf-25b1-4d43-e696-0b7afb26703b"
   },
   "outputs": [],
   "source": [
    "# Using same `for loop program` as in Break Statement section above\n",
    "# Use a continue statement rather than a break statement\n",
    "\n",
    "# take range(10) and print 'The number is' + value\n",
    "# continue when num equals 5\n"
   ]
  },
  {
   "cell_type": "code",
   "execution_count": 52,
   "metadata": {},
   "outputs": [
    {
     "name": "stdout",
     "output_type": "stream",
     "text": [
      "The number is  0\n",
      "The number is  1\n",
      "The number is  2\n",
      "The number is  3\n",
      "The number is  4\n",
      "The number is  6\n",
      "The number is  7\n",
      "The number is  8\n",
      "The number is  9\n"
     ]
    }
   ],
   "source": [
    "for i in range(10):\n",
    "    if i==5:\n",
    "        continue\n",
    "    print('The number is ',i)"
   ]
  },
  {
   "cell_type": "markdown",
   "metadata": {
    "id": "PMmen0JyrP4r"
   },
   "source": [
    "# **`String Manipulation`**"
   ]
  },
  {
   "cell_type": "code",
   "execution_count": 49,
   "metadata": {
    "id": "8J1dpy6rrP4r"
   },
   "outputs": [],
   "source": [
    "string_ = '' or \"\" or \"\"\" \"\"\""
   ]
  },
  {
   "cell_type": "code",
   "execution_count": 8,
   "metadata": {
    "colab": {
     "base_uri": "https://localhost:8080/",
     "height": 38
    },
    "id": "P4TiJEQCrP4s",
    "outputId": "bae75f24-20d2-4366-8444-4613f8d1a8b5"
   },
   "outputs": [],
   "source": [
    "# define a string variable with \"We are creating next generation data science eco-system at CollegeRanker\"\n",
    "\n",
    "string1=\"We are creating next generation data science eco-system at CollegeRanker\""
   ]
  },
  {
   "cell_type": "code",
   "execution_count": 9,
   "metadata": {
    "colab": {
     "base_uri": "https://localhost:8080/"
    },
    "id": "Ujfo-CHZrP4s",
    "outputId": "5f2290e3-5b15-440b-f412-61a6dd5dbccb"
   },
   "outputs": [
    {
     "data": {
      "text/plain": [
       "72"
      ]
     },
     "execution_count": 9,
     "metadata": {},
     "output_type": "execute_result"
    }
   ],
   "source": [
    "# Find length of string including spaces\n",
    "len(string1)\n"
   ]
  },
  {
   "cell_type": "code",
   "execution_count": 10,
   "metadata": {
    "colab": {
     "base_uri": "https://localhost:8080/",
     "height": 38
    },
    "id": "huRY2kW4rP4s",
    "outputId": "ea32d5f3-a346-4215-bf42-717e42861884"
   },
   "outputs": [
    {
     "data": {
      "text/plain": [
       "'a'"
      ]
     },
     "execution_count": 10,
     "metadata": {},
     "output_type": "execute_result"
    }
   ],
   "source": [
    "# Access characters in a string with indexing i.e string[0]\n",
    "\n",
    "string1[10]"
   ]
  },
  {
   "cell_type": "code",
   "execution_count": 11,
   "metadata": {
    "colab": {
     "base_uri": "https://localhost:8080/",
     "height": 38
    },
    "id": "ynPqdSYdrP4s",
    "outputId": "11749250-e549-4b7f-b1c2-0c99b592e87d"
   },
   "outputs": [
    {
     "data": {
      "text/plain": [
       "'e'"
      ]
     },
     "execution_count": 11,
     "metadata": {},
     "output_type": "execute_result"
    }
   ],
   "source": [
    "# Access characters with negative indexing i.e string[-1]\n",
    "string1[-2]\n"
   ]
  },
  {
   "cell_type": "markdown",
   "metadata": {
    "id": "O9VaefTGrP4s"
   },
   "source": [
    "# String Slicing"
   ]
  },
  {
   "cell_type": "code",
   "execution_count": 12,
   "metadata": {
    "colab": {
     "base_uri": "https://localhost:8080/",
     "height": 38
    },
    "id": "ry8spVYHrP4s",
    "outputId": "02cd607c-eeb6-4add-fac5-4b9ffcfb5f65"
   },
   "outputs": [
    {
     "data": {
      "text/plain": [
       "'We are'"
      ]
     },
     "execution_count": 12,
     "metadata": {},
     "output_type": "execute_result"
    }
   ],
   "source": [
    "# select string from first to 6th element i.e string[:6]\n",
    "\n",
    "string1[:6]"
   ]
  },
  {
   "cell_type": "code",
   "execution_count": 13,
   "metadata": {
    "colab": {
     "base_uri": "https://localhost:8080/",
     "height": 38
    },
    "id": "9yyS6grLrP4s",
    "outputId": "6f90465e-e6b4-4d86-e6bf-a7ffbe2f515c"
   },
   "outputs": [
    {
     "data": {
      "text/plain": [
       "'creating next generation data science eco-system at Col'"
      ]
     },
     "execution_count": 13,
     "metadata": {},
     "output_type": "execute_result"
    }
   ],
   "source": [
    "# select string from 7th to negative 10th element i.e string[7:-10]\n",
    "string[7:-10]\n"
   ]
  },
  {
   "cell_type": "markdown",
   "metadata": {
    "id": "IE-m76lwrP4s"
   },
   "source": [
    "Count of a particular `character` in a string"
   ]
  },
  {
   "cell_type": "code",
   "execution_count": 15,
   "metadata": {
    "colab": {
     "base_uri": "https://localhost:8080/"
    },
    "id": "036-jd2TrP4s",
    "outputId": "87deaa1f-d531-4a3c-924f-d6c520bda3fb"
   },
   "outputs": [
    {
     "data": {
      "text/plain": [
       "4"
      ]
     },
     "execution_count": 15,
     "metadata": {},
     "output_type": "execute_result"
    }
   ],
   "source": [
    "string1.count('c')\n"
   ]
  },
  {
   "cell_type": "markdown",
   "metadata": {
    "id": "6BhlvAFmrP4s"
   },
   "source": [
    "Count of a particular `sub-string` in a string "
   ]
  },
  {
   "cell_type": "code",
   "execution_count": 17,
   "metadata": {
    "colab": {
     "base_uri": "https://localhost:8080/"
    },
    "id": "pzaxuLCarP4s",
    "outputId": "ac1e0ef0-348c-4787-9dc5-1b8bf6ba6bac"
   },
   "outputs": [
    {
     "data": {
      "text/plain": [
       "2"
      ]
     },
     "execution_count": 17,
     "metadata": {},
     "output_type": "execute_result"
    }
   ],
   "source": [
    "string1.count('re')\n"
   ]
  },
  {
   "cell_type": "markdown",
   "metadata": {
    "id": "gbyWCeAwrP4s"
   },
   "source": [
    "Find a substring in string using `find` and `index` function"
   ]
  },
  {
   "cell_type": "code",
   "execution_count": 23,
   "metadata": {
    "colab": {
     "base_uri": "https://localhost:8080/"
    },
    "id": "tfFcaCXxrP4t",
    "outputId": "d9ca9ec0-fc58-4a22-d3ef-59323a72349a"
   },
   "outputs": [
    {
     "data": {
      "text/plain": [
       "-1"
      ]
     },
     "execution_count": 23,
     "metadata": {},
     "output_type": "execute_result"
    }
   ],
   "source": [
    "# .find() => if present it will return starting index, not found then it will return -1\n",
    "# .index() => if present it will return starting index, not found then it will give error\n",
    "\n",
    "string1.find('ew')"
   ]
  },
  {
   "cell_type": "code",
   "execution_count": 22,
   "metadata": {},
   "outputs": [
    {
     "ename": "ValueError",
     "evalue": "substring not found",
     "output_type": "error",
     "traceback": [
      "\u001b[1;31m---------------------------------------------------------------------------\u001b[0m",
      "\u001b[1;31mValueError\u001b[0m                                Traceback (most recent call last)",
      "Cell \u001b[1;32mIn[22], line 1\u001b[0m\n\u001b[1;32m----> 1\u001b[0m \u001b[43mstring1\u001b[49m\u001b[38;5;241;43m.\u001b[39;49m\u001b[43mindex\u001b[49m\u001b[43m(\u001b[49m\u001b[38;5;124;43m'\u001b[39;49m\u001b[38;5;124;43mew\u001b[39;49m\u001b[38;5;124;43m'\u001b[39;49m\u001b[43m)\u001b[49m\n",
      "\u001b[1;31mValueError\u001b[0m: substring not found"
     ]
    }
   ],
   "source": [
    "string1.index('ew')"
   ]
  },
  {
   "cell_type": "code",
   "execution_count": 26,
   "metadata": {
    "colab": {
     "base_uri": "https://localhost:8080/"
    },
    "id": "QK6TfpWyrP4t",
    "outputId": "d4d21a10-c677-425a-e880-95126ef89695"
   },
   "outputs": [
    {
     "data": {
      "text/plain": [
       "True"
      ]
     },
     "execution_count": 26,
     "metadata": {},
     "output_type": "execute_result"
    }
   ],
   "source": [
    "### Checking whether string `startswith` or `endswith` a particular substring or not\n",
    "\n",
    "string1.startswith('W')"
   ]
  },
  {
   "cell_type": "code",
   "execution_count": 27,
   "metadata": {
    "colab": {
     "base_uri": "https://localhost:8080/"
    },
    "id": "KEUqKWYqrP4t",
    "outputId": "77bf32e4-0c32-4bd2-b01c-e1995ff51a11"
   },
   "outputs": [
    {
     "data": {
      "text/plain": [
       "False"
      ]
     },
     "execution_count": 27,
     "metadata": {},
     "output_type": "execute_result"
    }
   ],
   "source": [
    "string1.endswith('c')\n"
   ]
  },
  {
   "cell_type": "code",
   "execution_count": 28,
   "metadata": {
    "colab": {
     "base_uri": "https://localhost:8080/",
     "height": 38
    },
    "id": "LpEf2Vi_rP4t",
    "outputId": "885d6b8b-acc3-4b51-ea88-9244f2885a2e"
   },
   "outputs": [
    {
     "data": {
      "text/plain": [
       "'WE ARE CREATING NEXT GENERATION DATA SCIENCE ECO-SYSTEM AT COLLEGERANKER'"
      ]
     },
     "execution_count": 28,
     "metadata": {},
     "output_type": "execute_result"
    }
   ],
   "source": [
    "### Converting string to upper case ###\n",
    "\n",
    "string1.upper()"
   ]
  },
  {
   "cell_type": "code",
   "execution_count": 31,
   "metadata": {
    "colab": {
     "base_uri": "https://localhost:8080/",
     "height": 38
    },
    "id": "C-lc1BM5rP4t",
    "outputId": "9bab07c7-6456-4d62-b004-ba3ddc6df27d"
   },
   "outputs": [
    {
     "data": {
      "text/plain": [
       "'We are creating next generation data science eco-system at collegeranker'"
      ]
     },
     "execution_count": 31,
     "metadata": {},
     "output_type": "execute_result"
    }
   ],
   "source": [
    "### Converting only first character of string to upper case\n",
    "\n",
    "string1.capitalize()"
   ]
  },
  {
   "cell_type": "code",
   "execution_count": 32,
   "metadata": {
    "colab": {
     "base_uri": "https://localhost:8080/"
    },
    "id": "eUfso5gHrP4t",
    "outputId": "1886034d-ab70-49d6-d45f-6e516d623412"
   },
   "outputs": [
    {
     "data": {
      "text/plain": [
       "False"
      ]
     },
     "execution_count": 32,
     "metadata": {},
     "output_type": "execute_result"
    }
   ],
   "source": [
    "### Checking if string is in lower case or upper case\n",
    "\n",
    "string1.isupper()"
   ]
  },
  {
   "cell_type": "code",
   "execution_count": 33,
   "metadata": {},
   "outputs": [
    {
     "data": {
      "text/plain": [
       "False"
      ]
     },
     "execution_count": 33,
     "metadata": {},
     "output_type": "execute_result"
    }
   ],
   "source": [
    "string1.islower()"
   ]
  },
  {
   "cell_type": "code",
   "execution_count": 35,
   "metadata": {
    "colab": {
     "base_uri": "https://localhost:8080/"
    },
    "id": "4KJ8oYacrP4t",
    "outputId": "e4675c2e-e4ce-4e7b-94c4-9b4ae7f6f46b"
   },
   "outputs": [
    {
     "data": {
      "text/plain": [
       "False"
      ]
     },
     "execution_count": 35,
     "metadata": {},
     "output_type": "execute_result"
    }
   ],
   "source": [
    "### Checking if string is digit, alpabetic, alpha-numeric\n",
    "\n",
    "string1.isdigit()\n"
   ]
  },
  {
   "cell_type": "code",
   "execution_count": 36,
   "metadata": {},
   "outputs": [
    {
     "data": {
      "text/plain": [
       "False"
      ]
     },
     "execution_count": 36,
     "metadata": {},
     "output_type": "execute_result"
    }
   ],
   "source": [
    "string1.isalpha()"
   ]
  },
  {
   "cell_type": "code",
   "execution_count": 37,
   "metadata": {},
   "outputs": [
    {
     "data": {
      "text/plain": [
       "False"
      ]
     },
     "execution_count": 37,
     "metadata": {},
     "output_type": "execute_result"
    }
   ],
   "source": [
    "string1.isalnum()"
   ]
  },
  {
   "cell_type": "code",
   "execution_count": 38,
   "metadata": {
    "colab": {
     "base_uri": "https://localhost:8080/",
     "height": 38
    },
    "id": "SGBdMJeurP4u",
    "outputId": "53684928-4589-4c57-c4d1-8e5a5fdee906"
   },
   "outputs": [],
   "source": [
    "# assign \"C++ is easy to learn\" to a new_str variable\n",
    "\n",
    "new_str='C++ is easy to learn'"
   ]
  },
  {
   "cell_type": "code",
   "execution_count": 40,
   "metadata": {
    "colab": {
     "base_uri": "https://localhost:8080/",
     "height": 38
    },
    "id": "o3IMBWfqrP4u",
    "outputId": "d8ee05d3-46f4-4ace-ba07-1d373042c797"
   },
   "outputs": [
    {
     "data": {
      "text/plain": [
       "'Python is easy to learn'"
      ]
     },
     "execution_count": 40,
     "metadata": {},
     "output_type": "execute_result"
    }
   ],
   "source": [
    "### Replace C++ with Python\n",
    "\n",
    "new_str.replace('C++','Python')"
   ]
  },
  {
   "cell_type": "code",
   "execution_count": 41,
   "metadata": {
    "colab": {
     "base_uri": "https://localhost:8080/"
    },
    "id": "himKDrvcrP4u",
    "outputId": "16f98642-acfc-4073-d09e-8fbd71125740"
   },
   "outputs": [
    {
     "data": {
      "text/plain": [
       "['C++', 'is', 'easy', 'to', 'learn']"
      ]
     },
     "execution_count": 41,
     "metadata": {},
     "output_type": "execute_result"
    }
   ],
   "source": [
    "### Use Split function on new_str ###\n",
    "\n",
    "new_str.split()"
   ]
  },
  {
   "cell_type": "markdown",
   "metadata": {
    "colab": {
     "base_uri": "https://localhost:8080/"
    },
    "execution": {
     "iopub.execute_input": "2021-12-13T11:09:45.285163Z",
     "iopub.status.busy": "2021-12-13T11:09:45.284668Z",
     "iopub.status.idle": "2021-12-13T11:09:45.291474Z",
     "shell.execute_reply": "2021-12-13T11:09:45.290548Z",
     "shell.execute_reply.started": "2021-12-13T11:09:45.285128Z"
    },
    "id": "cCDcaUzHrP4u",
    "outputId": "26c9046b-e3f3-41c5-ab4a-051bbf4bf5f5"
   },
   "source": [
    "# **`Python Functions`**"
   ]
  },
  {
   "cell_type": "code",
   "execution_count": 76,
   "metadata": {
    "colab": {
     "base_uri": "https://localhost:8080/",
     "height": 38
    },
    "execution": {
     "iopub.execute_input": "2021-12-14T10:18:36.097257Z",
     "iopub.status.busy": "2021-12-14T10:18:36.096956Z",
     "iopub.status.idle": "2021-12-14T10:18:36.102958Z",
     "shell.execute_reply": "2021-12-14T10:18:36.102283Z",
     "shell.execute_reply.started": "2021-12-14T10:18:36.097225Z"
    },
    "id": "4jqkxfNdrP4z",
    "outputId": "a232eae4-3829-4a38-cb4f-bc0e36d3ecf2"
   },
   "outputs": [
    {
     "data": {
      "text/plain": [
       "'\\ndef function_name():\\n    stetement(s)\\n'"
      ]
     },
     "execution_count": 76,
     "metadata": {},
     "output_type": "execute_result"
    }
   ],
   "source": [
    "\"\"\"\n",
    "def function_name():\n",
    "    stetement(s)\n",
    "\"\"\""
   ]
  },
  {
   "cell_type": "code",
   "execution_count": 48,
   "metadata": {
    "id": "L8OCfOyPrP4z"
   },
   "outputs": [],
   "source": [
    "# define a function with welcome_message(name) and body 'Welcome to Functions !!!'\n",
    "\n",
    "def welcome(name):\n",
    "    print('Welcome to Functions!!! ', name)\n",
    "\n"
   ]
  },
  {
   "cell_type": "code",
   "execution_count": 49,
   "metadata": {
    "colab": {
     "base_uri": "https://localhost:8080/"
    },
    "id": "asBr2ewErP4z",
    "outputId": "b9c9380d-f45e-4d68-8099-a0c72f40f180"
   },
   "outputs": [
    {
     "name": "stdout",
     "output_type": "stream",
     "text": [
      "Welcome to Functions!!!  Osama\n"
     ]
    }
   ],
   "source": [
    "# call a function with your name\n",
    "welcome('Osama')\n"
   ]
  },
  {
   "cell_type": "markdown",
   "metadata": {
    "id": "YKfp2X2irP4z"
   },
   "source": [
    "* `def` Keyword marking start of function\n",
    "* `function name` to uniquely identify function\n",
    "    * `function naming` follows same `rules of writing identifiers`\n",
    "* `parameters`(arguments) to pass values to a function => totally optional\n",
    "* `()` paranthesis\n",
    "* `colon (:)` start of function\n",
    "* `documentation string`(docstring) describe's what function does => totally optional\n",
    "* `return statement` returns a value from function => totally optional\n",
    "* inside colon is `function definition` it should always be present before function call or get an error"
   ]
  },
  {
   "cell_type": "code",
   "execution_count": 54,
   "metadata": {
    "id": "TbWL-gm-rP4z"
   },
   "outputs": [
    {
     "name": "stdout",
     "output_type": "stream",
     "text": [
      "The sum of 3 and 4 is : 7\n"
     ]
    }
   ],
   "source": [
    "# Write a function to add two number which are as 3 and 4\n",
    "# in total variable store adition of 3 + 4\n",
    "# print total variable \n",
    "\n",
    "def add(a,b):\n",
    "    total=a+b\n",
    "    return total\n",
    "\n",
    "result=add(3,4)\n",
    "\n",
    "print(\"The sum of 3 and 4 is :\", result)"
   ]
  },
  {
   "cell_type": "markdown",
   "metadata": {
    "id": "JzTJaFZirP41"
   },
   "source": [
    "# ***`Positional Arguments`*** \n",
    "Most arguments are identified by their position in function call\n",
    "* Say `print(x,y)` will give different results from `print(y,x)`\n",
    "\n",
    "What ever sequence is given while defining a function values must be taken in that sequence only\n",
    "* Otherwise use argument name **`(keyword arguments)`** to take values\n",
    "* We first define `positional argument` and then `keyword arguments`\n"
   ]
  },
  {
   "cell_type": "code",
   "execution_count": 58,
   "metadata": {
    "id": "LpgDIWcYrP41"
   },
   "outputs": [],
   "source": [
    "## Create substraction_function(small_number,large_number) and return difference between large_number and small_number\n",
    "\n",
    "def sub(small_number,large_number):\n",
    "    difference=large_number-small_number\n",
    "    return difference\n",
    "\n"
   ]
  },
  {
   "cell_type": "code",
   "execution_count": 59,
   "metadata": {
    "colab": {
     "base_uri": "https://localhost:8080/"
    },
    "id": "AX6Ku1j9rP41",
    "outputId": "06533fff-deb9-4d44-b464-7b5969d061af"
   },
   "outputs": [
    {
     "name": "stdout",
     "output_type": "stream",
     "text": [
      "Difference between 3 and 5 is:  2\n"
     ]
    }
   ],
   "source": [
    "# pass arguments in right order\n",
    "\n",
    "differ=sub(3,5)\n",
    "print('Difference between 3 and 5 is: ', differ)"
   ]
  },
  {
   "cell_type": "code",
   "execution_count": 84,
   "metadata": {
    "colab": {
     "base_uri": "https://localhost:8080/"
    },
    "execution": {
     "iopub.execute_input": "2021-12-11T10:27:51.964287Z",
     "iopub.status.busy": "2021-12-11T10:27:51.963803Z",
     "iopub.status.idle": "2021-12-11T10:27:51.969195Z",
     "shell.execute_reply": "2021-12-11T10:27:51.968619Z",
     "shell.execute_reply.started": "2021-12-11T10:27:51.964251Z"
    },
    "id": "zSWT96GurP41",
    "outputId": "a3f76fb0-3f28-416a-dc4a-394e58e18c6d"
   },
   "outputs": [],
   "source": [
    "# always pass arguments using there name(keyword arguments) then order does not matter\n",
    "\n"
   ]
  },
  {
   "cell_type": "code",
   "execution_count": 60,
   "metadata": {},
   "outputs": [
    {
     "name": "stdout",
     "output_type": "stream",
     "text": [
      "Hello,Osama!\n"
     ]
    }
   ],
   "source": [
    "def welcome_message(name,welcome=\"Hello\"):\n",
    "    print(f\"{welcome},{name}!\")\n",
    "\n",
    "welcome_message('Osama')"
   ]
  },
  {
   "cell_type": "markdown",
   "metadata": {
    "id": "_NUdf1OsrP42"
   },
   "source": [
    "# ***`Scope of Variables`*** means that part of program where we can access particular variable\n",
    "* `Local Variable` => variables defined inside a function and can be only accessed from inside of that particular function\n",
    "* `Global Variable` => variables defined outside a function and can be accessed throughout program\n",
    "\n",
    "Let's define a global variable, `\"global_variable\"` outside function\n",
    "* We will return its value using a function `\"randome_function\"` and see that we would be able to access its value using that function also"
   ]
  },
  {
   "cell_type": "code",
   "execution_count": 86,
   "metadata": {
    "execution": {
     "iopub.execute_input": "2021-12-11T11:00:38.758741Z",
     "iopub.status.busy": "2021-12-11T11:00:38.758474Z",
     "iopub.status.idle": "2021-12-11T11:00:38.762182Z",
     "shell.execute_reply": "2021-12-11T11:00:38.761618Z",
     "shell.execute_reply.started": "2021-12-11T11:00:38.758716Z"
    },
    "id": "e0BDQ-ccrP42"
   },
   "outputs": [],
   "source": [
    "#### Observe every output from here onwords #####\n",
    "# defining a global variable\n",
    "global_variable = 'variable outside of function'\n",
    "\n",
    "# defining function\n",
    "def random_function():\n",
    "    # accessing variable which is outside of this function\n",
    "    return global_variable"
   ]
  },
  {
   "cell_type": "code",
   "execution_count": 87,
   "metadata": {
    "colab": {
     "base_uri": "https://localhost:8080/",
     "height": 38
    },
    "execution": {
     "iopub.execute_input": "2021-12-11T11:00:58.33357Z",
     "iopub.status.busy": "2021-12-11T11:00:58.33313Z",
     "iopub.status.idle": "2021-12-11T11:00:58.337597Z",
     "shell.execute_reply": "2021-12-11T11:00:58.337038Z",
     "shell.execute_reply.started": "2021-12-11T11:00:58.333513Z"
    },
    "id": "2hYmUr5BrP42",
    "outputId": "409967fa-7156-418e-c19d-4b9eec029fd9"
   },
   "outputs": [
    {
     "data": {
      "text/plain": [
       "'variable outside of function'"
      ]
     },
     "execution_count": 87,
     "metadata": {},
     "output_type": "execute_result"
    }
   ],
   "source": [
    "random_function()"
   ]
  },
  {
   "cell_type": "markdown",
   "metadata": {
    "id": "w7AB55isrP42"
   },
   "source": [
    "`See we can acess the data of golbal variable from Inside of the Function`\n",
    "\n",
    "# **`=> Let's see what will happen if we try to change value of global variable from Inside of the Function`**"
   ]
  },
  {
   "cell_type": "code",
   "execution_count": 88,
   "metadata": {
    "execution": {
     "iopub.execute_input": "2021-12-11T11:08:27.657115Z",
     "iopub.status.busy": "2021-12-11T11:08:27.656836Z",
     "iopub.status.idle": "2021-12-11T11:08:27.661916Z",
     "shell.execute_reply": "2021-12-11T11:08:27.661004Z",
     "shell.execute_reply.started": "2021-12-11T11:08:27.657086Z"
    },
    "id": "1cOFox6FrP43"
   },
   "outputs": [],
   "source": [
    "#### Observe every output from here onwords #####\n",
    "# defining a global variable\n",
    "global_variable = 'variable outside of function'\n",
    "\n",
    "# defining function\n",
    "def random_function():\n",
    "    # changing value of global variable from inside of the function\n",
    "    global_variable = 'changing variable outside of function from inside of function'\n",
    "    # accessing variable which is outside of this function\n",
    "    return global_variable"
   ]
  },
  {
   "cell_type": "code",
   "execution_count": 89,
   "metadata": {
    "colab": {
     "base_uri": "https://localhost:8080/"
    },
    "execution": {
     "iopub.execute_input": "2021-12-11T11:32:36.29647Z",
     "iopub.status.busy": "2021-12-11T11:32:36.296167Z",
     "iopub.status.idle": "2021-12-11T11:32:36.300653Z",
     "shell.execute_reply": "2021-12-11T11:32:36.30002Z",
     "shell.execute_reply.started": "2021-12-11T11:32:36.29644Z"
    },
    "id": "8ScwL6OUrP43",
    "outputId": "e26b52e1-1627-493b-b808-64c656e91562"
   },
   "outputs": [
    {
     "name": "stdout",
     "output_type": "stream",
     "text": [
      "changing variable outside of function from inside of function\n",
      "variable outside of function\n"
     ]
    }
   ],
   "source": [
    "print(random_function())\n",
    "print(global_variable)"
   ]
  },
  {
   "cell_type": "code",
   "execution_count": null,
   "metadata": {},
   "outputs": [],
   "source": []
  },
  {
   "cell_type": "code",
   "execution_count": null,
   "metadata": {},
   "outputs": [],
   "source": []
  }
 ],
 "metadata": {
  "colab": {
   "collapsed_sections": [
    "slh282AprP4M",
    "W-7tOm5CrP4P",
    "7Mo7XNVNrP4W",
    "_jF5-7_PrP4e",
    "fI6TbJ9IrP4e",
    "kPw6N8X_rP45"
   ],
   "provenance": []
  },
  "kernelspec": {
   "display_name": "Python 3 (ipykernel)",
   "language": "python",
   "name": "python3"
  },
  "language_info": {
   "codemirror_mode": {
    "name": "ipython",
    "version": 3
   },
   "file_extension": ".py",
   "mimetype": "text/x-python",
   "name": "python",
   "nbconvert_exporter": "python",
   "pygments_lexer": "ipython3",
   "version": "3.12.2"
  }
 },
 "nbformat": 4,
 "nbformat_minor": 4
}
