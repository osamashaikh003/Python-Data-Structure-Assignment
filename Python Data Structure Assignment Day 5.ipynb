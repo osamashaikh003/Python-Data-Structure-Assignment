{
 "cells": [
  {
   "cell_type": "markdown",
   "id": "77e88a74",
   "metadata": {
    "id": "jGxqF4aIjNSq"
   },
   "source": [
    "<a id='1'></a><center> <h3 style=\"background-color:orange; color:white\" ><br>Python Data Structures<br></h3>"
   ]
  },
  {
   "cell_type": "markdown",
   "id": "54d7e19b",
   "metadata": {},
   "source": [
    "# `Types of Data Structures:`\n",
    "* `List` | `Tuple`\n",
    "* `Set` | `Dictionary`"
   ]
  },
  {
   "cell_type": "markdown",
   "id": "dfa6e74d",
   "metadata": {},
   "source": [
    "|Data Structures type|Mutable|Comments|Indexing|Ordered|Duplicacy|\n",
    "|----|----|----|----|----|----|\n",
    "tuple ()|immutable|immutable version of list| possible|yes |allowed |\n",
    "list []|mutable|-|possible |yes | allowed |\n",
    "set {}|mutable| -|not |no |not |\n",
    "dict {key:value}|mutable|-|possible |no |not  |"
   ]
  },
  {
   "cell_type": "markdown",
   "id": "fe46ed9f",
   "metadata": {},
   "source": [
    "💫 `immutable` => `can't be changed` <br>\n",
    "💫 `mutable` => `can be changed`"
   ]
  },
  {
   "cell_type": "code",
   "execution_count": null,
   "id": "f37d2d74",
   "metadata": {},
   "outputs": [],
   "source": []
  },
  {
   "cell_type": "markdown",
   "id": "fe472fe3",
   "metadata": {
    "id": "Tyavi31ZjNSw"
   },
   "source": [
    "## Lists\n",
    "\n"
   ]
  },
  {
   "cell_type": "markdown",
   "id": "596abb84",
   "metadata": {
    "id": "tkDQdRdUjNSy"
   },
   "source": [
    "### Create an empty list with the name ‘a’, print the value of a and type(a).\n"
   ]
  },
  {
   "cell_type": "code",
   "execution_count": 1,
   "id": "13959129",
   "metadata": {
    "id": "a6i4yNGvjNSz"
   },
   "outputs": [],
   "source": [
    "# create empty list, name it 'a'\n",
    "\n",
    "a=[]"
   ]
  },
  {
   "cell_type": "code",
   "execution_count": 2,
   "id": "725a8a42-a0b8-4121-8082-b2567ebbf7c1",
   "metadata": {
    "id": "M8FMNQEgjNS0",
    "outputId": "e614518d-cd99-4602-c082-7fcc1f9a0e3a"
   },
   "outputs": [
    {
     "name": "stdout",
     "output_type": "stream",
     "text": [
      "[]\n"
     ]
    }
   ],
   "source": [
    "# print the value of a\n",
    "\n",
    "print(a)"
   ]
  },
  {
   "cell_type": "code",
   "execution_count": 3,
   "id": "978f58fa",
   "metadata": {
    "id": "Jfc9sg1vjNS1",
    "outputId": "462464e7-25c1-4a23-80cb-f8c6cf93fb18"
   },
   "outputs": [
    {
     "data": {
      "text/plain": [
       "list"
      ]
     },
     "execution_count": 3,
     "metadata": {},
     "output_type": "execute_result"
    }
   ],
   "source": [
    "# print the type of a\n",
    "type(a)"
   ]
  },
  {
   "cell_type": "markdown",
   "id": "514bed98",
   "metadata": {
    "id": "UNpN9_w4jNS1"
   },
   "source": [
    "### Create a list , languages = ['R','Python', 'SAS', 'Scala', 42], "
   ]
  },
  {
   "cell_type": "code",
   "execution_count": 22,
   "id": "3273d07b",
   "metadata": {
    "id": "x-TG-vc5jNS2"
   },
   "outputs": [],
   "source": [
    "languages= ['R', 'Python', 'SAS', 'Scala', 42]"
   ]
  },
  {
   "cell_type": "markdown",
   "id": "04a4ccf3",
   "metadata": {
    "id": "JDSIK8TbjNS3"
   },
   "source": [
    "Print the number of elements in the list"
   ]
  },
  {
   "cell_type": "code",
   "execution_count": 23,
   "id": "d1d5b18a-c410-4ed0-ab6e-628fa8d6495f",
   "metadata": {
    "id": "C4lBMaM8jNS3",
    "outputId": "8f553c2e-3d4f-4a3c-ddb3-49b32c4d6fce"
   },
   "outputs": [
    {
     "name": "stdout",
     "output_type": "stream",
     "text": [
      "5\n"
     ]
    }
   ],
   "source": [
    "print(len(languages))"
   ]
  },
  {
   "cell_type": "markdown",
   "id": "f176e8c2",
   "metadata": {
    "id": "EyzO_pcnjNS3"
   },
   "source": [
    "Using for loop iterate and print all the elements in the list"
   ]
  },
  {
   "cell_type": "code",
   "execution_count": 24,
   "id": "b14ae612",
   "metadata": {
    "id": "TyM54ydsjNS4",
    "outputId": "a83aecf6-2a59-4d56-ee29-d0c3f0711bc4"
   },
   "outputs": [
    {
     "name": "stdout",
     "output_type": "stream",
     "text": [
      "R\n",
      "Python\n",
      "SAS\n",
      "Scala\n",
      "42\n"
     ]
    }
   ],
   "source": [
    "for i in languages:\n",
    "    print(i)"
   ]
  },
  {
   "cell_type": "markdown",
   "id": "85de9bb1",
   "metadata": {
    "id": "eC1fqz9LjNS4"
   },
   "source": [
    "Select the second item, 'Python' and store it in a new variable named 'temp'"
   ]
  },
  {
   "cell_type": "code",
   "execution_count": 25,
   "id": "b4cf4918",
   "metadata": {
    "id": "KY0KhRlOjNS4"
   },
   "outputs": [
    {
     "name": "stdout",
     "output_type": "stream",
     "text": [
      "Python\n"
     ]
    }
   ],
   "source": [
    "temp=languages[1]\n",
    "\n",
    "print(temp)\n"
   ]
  },
  {
   "cell_type": "markdown",
   "id": "d3eb46a1",
   "metadata": {
    "id": "breORMa_jNS4"
   },
   "source": [
    "Print the value of temp and type(temp)"
   ]
  },
  {
   "cell_type": "code",
   "execution_count": 27,
   "id": "c007d71e",
   "metadata": {
    "id": "MbvX2aIgjNS5",
    "outputId": "f8ec4c46-26d8-4822-c3c7-b18a6cc7f149"
   },
   "outputs": [
    {
     "data": {
      "text/plain": [
       "str"
      ]
     },
     "execution_count": 27,
     "metadata": {},
     "output_type": "execute_result"
    }
   ],
   "source": [
    "temp\n",
    "type(temp)"
   ]
  },
  {
   "cell_type": "markdown",
   "id": "f6646133",
   "metadata": {
    "id": "I4MrKlAUjNS5"
   },
   "source": [
    "Append the element 'Java' in the list"
   ]
  },
  {
   "cell_type": "code",
   "execution_count": 28,
   "id": "d633420a",
   "metadata": {
    "id": "rOtqZY6PjNS6"
   },
   "outputs": [],
   "source": [
    "languages.append('Java')\n"
   ]
  },
  {
   "cell_type": "markdown",
   "id": "eaeee292",
   "metadata": {
    "id": "ksEn8qvFjNS6"
   },
   "source": [
    "Remove the element 42 from the list and print the list"
   ]
  },
  {
   "cell_type": "code",
   "execution_count": 29,
   "id": "911c6762",
   "metadata": {
    "id": "Lxuzfc1bjNS6",
    "outputId": "71e5abaf-0020-44d5-af96-9b6f832ce001"
   },
   "outputs": [
    {
     "name": "stdout",
     "output_type": "stream",
     "text": [
      "['R', 'Python', 'SAS', 'Scala', 'Java']\n"
     ]
    }
   ],
   "source": [
    "languages.remove(42)\n",
    "print(languages)\n",
    "\n"
   ]
  },
  {
   "cell_type": "markdown",
   "id": "78760a89",
   "metadata": {
    "id": "19MjI0w6jNS6"
   },
   "source": [
    "### Create a list, colors = [‘Red’, ‘Blue’, ‘White’]"
   ]
  },
  {
   "cell_type": "code",
   "execution_count": 30,
   "id": "c79431ae",
   "metadata": {
    "id": "Z1lMzdbWjNS7"
   },
   "outputs": [],
   "source": [
    "colors=['Red', 'Blue', 'White']"
   ]
  },
  {
   "cell_type": "markdown",
   "id": "90b8df55",
   "metadata": {
    "id": "VAqLj5R3jNS7"
   },
   "source": [
    "Append the element 'Black' to colors"
   ]
  },
  {
   "cell_type": "code",
   "execution_count": 31,
   "id": "eb89aa15-2d73-41db-9cbd-b9a41b47a208",
   "metadata": {},
   "outputs": [],
   "source": [
    "colors.append('Black')"
   ]
  },
  {
   "cell_type": "raw",
   "id": "af593a6a-c7eb-41b8-b05b-8b86b4ede3a9",
   "metadata": {
    "id": "gvb5iC7ljNS7"
   },
   "source": [
    "\n",
    "\n"
   ]
  },
  {
   "cell_type": "markdown",
   "id": "64a85d09",
   "metadata": {
    "id": "MFWIzVcvjNS7"
   },
   "source": [
    "Append the color 'Orange' to second position (index=1) and print the list"
   ]
  },
  {
   "cell_type": "code",
   "execution_count": 33,
   "id": "0d9d2b13",
   "metadata": {
    "id": "Fb6YZDSNjNS8"
   },
   "outputs": [
    {
     "name": "stdout",
     "output_type": "stream",
     "text": [
      "['Red', 'Orange', 'Blue', 'White', 'Black']\n"
     ]
    }
   ],
   "source": [
    "colors.insert(1,'Orange')\n",
    "print(colors)"
   ]
  },
  {
   "cell_type": "markdown",
   "id": "5459263f",
   "metadata": {
    "id": "8DWB76AOjNS8"
   },
   "source": [
    "Print the list\n"
   ]
  },
  {
   "cell_type": "code",
   "execution_count": 34,
   "id": "7f2379f1",
   "metadata": {
    "id": "0ldkGCozjNS8",
    "outputId": "0a5cb8e4-f656-4122-b50a-e7716ef09086"
   },
   "outputs": [
    {
     "name": "stdout",
     "output_type": "stream",
     "text": [
      "['Red', 'Orange', 'Blue', 'White', 'Black']\n"
     ]
    }
   ],
   "source": [
    "print(colors)"
   ]
  },
  {
   "cell_type": "markdown",
   "id": "5bd62076",
   "metadata": {
    "id": "WfFfxvLKjNS8"
   },
   "source": [
    "Create another list, colors2 = [‘Grey’, ‘Sky Blue’]"
   ]
  },
  {
   "cell_type": "code",
   "execution_count": 35,
   "id": "ca371f79",
   "metadata": {
    "id": "onZEiwdUjNS8"
   },
   "outputs": [],
   "source": [
    "colors2=['Grey', 'Sky Blue']"
   ]
  },
  {
   "cell_type": "markdown",
   "id": "1f2d99bb",
   "metadata": {
    "id": "MrNQk6uKjNS8"
   },
   "source": [
    "Add the elements of colors2 to colors using extend function in the list"
   ]
  },
  {
   "cell_type": "code",
   "execution_count": 36,
   "id": "838c2dea",
   "metadata": {
    "id": "Hr1Eu88OjNS9"
   },
   "outputs": [],
   "source": [
    "colors.extend(colors2)"
   ]
  },
  {
   "cell_type": "markdown",
   "id": "47978775",
   "metadata": {
    "id": "u0KDeU20jNS9"
   },
   "source": [
    "Print len of colors and its elements"
   ]
  },
  {
   "cell_type": "code",
   "execution_count": 39,
   "id": "b9a0972f",
   "metadata": {
    "id": "bnBmsCg2jNS9",
    "outputId": "f126519a-bafd-4438-fe21-af7586b5740d"
   },
   "outputs": [
    {
     "name": "stdout",
     "output_type": "stream",
     "text": [
      "['Red', 'Orange', 'Blue', 'White', 'Black', 'Grey', 'Sky Blue']\n"
     ]
    }
   ],
   "source": [
    "len(colors)\n",
    "print(colors)\n",
    "\n"
   ]
  },
  {
   "cell_type": "markdown",
   "id": "56db4887",
   "metadata": {
    "id": "vJ7YqokSjNS9"
   },
   "source": [
    "Sort the list and print it."
   ]
  },
  {
   "cell_type": "code",
   "execution_count": 42,
   "id": "d431184b",
   "metadata": {
    "id": "X14C-1PtjNS9",
    "outputId": "02524dae-3592-47e2-98b0-77501aa15b64"
   },
   "outputs": [
    {
     "name": "stdout",
     "output_type": "stream",
     "text": [
      "['Black', 'Blue', 'Grey', 'Orange', 'Red', 'Sky Blue', 'White']\n"
     ]
    }
   ],
   "source": [
    "colors.sort()\n",
    "print(colors)"
   ]
  },
  {
   "cell_type": "markdown",
   "id": "160614e1",
   "metadata": {
    "id": "MdN5B9F9jNS-"
   },
   "source": [
    "### Create a string, sent = ‘Coronavirus Caused Lockdowns Around The World.”"
   ]
  },
  {
   "cell_type": "code",
   "execution_count": 46,
   "id": "9f56303f",
   "metadata": {
    "id": "j4JUR085jNS-"
   },
   "outputs": [],
   "source": [
    "sent = \"Coronavirus Caused Lockdowns Around The World.\""
   ]
  },
  {
   "cell_type": "markdown",
   "id": "f19b632d",
   "metadata": {
    "id": "rcn18drOjNS-"
   },
   "source": [
    "Use split function to convert the string into a list of words and save it in variable words and print the same"
   ]
  },
  {
   "cell_type": "code",
   "execution_count": 49,
   "id": "f2fdb856",
   "metadata": {
    "id": "fjiKSboajNS-",
    "outputId": "b6bfb22e-147a-4d90-9428-d321d9824589"
   },
   "outputs": [
    {
     "name": "stdout",
     "output_type": "stream",
     "text": [
      "['Coronavirus', 'Caused', 'Lockdowns', 'Around', 'The', 'World.']\n"
     ]
    }
   ],
   "source": [
    "words=sent.split()\n",
    "print(words)"
   ]
  },
  {
   "cell_type": "markdown",
   "id": "123c400b",
   "metadata": {
    "id": "rowxhN26jNS_"
   },
   "source": [
    "Convert each word in the list to lower case and store it in variable words_lower. \n",
    "Print words_lower"
   ]
  },
  {
   "cell_type": "code",
   "execution_count": 61,
   "id": "837bc9fa",
   "metadata": {
    "id": "LuzAECOVjNS_",
    "outputId": "d2c5bbbe-af46-4659-fdcb-d5de59d24099"
   },
   "outputs": [
    {
     "name": "stdout",
     "output_type": "stream",
     "text": [
      "['coronavirus', 'caused', 'lockdowns', 'around', 'the', 'world.']\n"
     ]
    }
   ],
   "source": [
    "words_lower=[i.lower() for i in words]\n",
    "print(words_lower)"
   ]
  },
  {
   "cell_type": "markdown",
   "id": "d920013e",
   "metadata": {
    "id": "zznwP-l9jNS_"
   },
   "source": [
    "Check whether ‘country’ is in the list"
   ]
  },
  {
   "cell_type": "code",
   "execution_count": 53,
   "id": "3e3f98c2",
   "metadata": {
    "id": "y-U1felnjNS_",
    "outputId": "1e5fb9dd-4add-4438-97da-60db75ce0fce"
   },
   "outputs": [
    {
     "name": "stdout",
     "output_type": "stream",
     "text": [
      "country does not exist in list\n"
     ]
    }
   ],
   "source": [
    "if 'country' in words_lower:\n",
    "    print(\"country exist in list\")\n",
    "else:\n",
    "    print('country does not exist in list')"
   ]
  },
  {
   "cell_type": "markdown",
   "id": "93990d35",
   "metadata": {
    "id": "AZMvSVKWjNS_"
   },
   "source": [
    "Remove the element ‘the’ from the list and print the list."
   ]
  },
  {
   "cell_type": "code",
   "execution_count": 62,
   "id": "928be220",
   "metadata": {
    "id": "bmDbpYd7jNS_",
    "outputId": "e96ddeed-af03-4d0c-a7dd-6c7a716e349a"
   },
   "outputs": [
    {
     "name": "stdout",
     "output_type": "stream",
     "text": [
      "['coronavirus', 'caused', 'lockdowns', 'around', 'world.']\n"
     ]
    }
   ],
   "source": [
    "words_lower.remove('the')\n",
    "print(words_lower)"
   ]
  },
  {
   "cell_type": "markdown",
   "id": "d66fd565",
   "metadata": {
    "id": "int3gJc0jNS_"
   },
   "source": [
    "Select the first 4 words from the list words_lower using slicing and store them in a new variable x4"
   ]
  },
  {
   "cell_type": "code",
   "execution_count": 63,
   "id": "55049054",
   "metadata": {
    "id": "fXOJmYI1jNTA"
   },
   "outputs": [],
   "source": [
    "x4=words_lower[4]"
   ]
  },
  {
   "cell_type": "code",
   "execution_count": 64,
   "id": "8a1e6b73",
   "metadata": {
    "id": "2Kb_1V9HjNTA",
    "outputId": "49b4815f-910d-45d2-da69-6be48927e099"
   },
   "outputs": [
    {
     "name": "stdout",
     "output_type": "stream",
     "text": [
      "world.\n"
     ]
    }
   ],
   "source": [
    "# print x4\n",
    "print(x4)\n"
   ]
  },
  {
   "cell_type": "markdown",
   "id": "dcef29c0",
   "metadata": {
    "id": "3HgP3nUmjNTA"
   },
   "source": [
    "Convert the list of elements to single string using join function and print it"
   ]
  },
  {
   "cell_type": "code",
   "execution_count": 66,
   "id": "1b4a26e1",
   "metadata": {
    "id": "hiXO7ekhjNTA",
    "outputId": "db0f6673-174f-4bee-f6c5-c7e7d4f4612b"
   },
   "outputs": [
    {
     "name": "stdout",
     "output_type": "stream",
     "text": [
      "coronavirus caused lockdowns around world.\n"
     ]
    }
   ],
   "source": [
    "join=' '.join(words_lower)\n",
    "print(join)"
   ]
  },
  {
   "cell_type": "markdown",
   "id": "cf99bbf2",
   "metadata": {
    "id": "tW6We_kvjNTA"
   },
   "source": [
    "## Sets"
   ]
  },
  {
   "cell_type": "markdown",
   "id": "5e28c5ee",
   "metadata": {
    "id": "02qkte5xjNTA"
   },
   "source": [
    "### Create stud_grades = ['A','A','B','C','C','F']"
   ]
  },
  {
   "cell_type": "code",
   "execution_count": 1,
   "id": "6a233f67",
   "metadata": {
    "id": "M5P_qZaTjNTB"
   },
   "outputs": [],
   "source": [
    "stud_grades=['A','A','B','C','C','F']"
   ]
  },
  {
   "cell_type": "markdown",
   "id": "b4522c76",
   "metadata": {
    "id": "XazCnMcBjNTB"
   },
   "source": [
    "Print the len of stud_grades"
   ]
  },
  {
   "cell_type": "code",
   "execution_count": 68,
   "id": "0d18ee3f-7e78-4ae7-945e-03d74a61f231",
   "metadata": {
    "id": "gMMJN-V5jNTB",
    "outputId": "ae1dee90-d009-4230-b7ae-8ea1ee32cbfa"
   },
   "outputs": [
    {
     "data": {
      "text/plain": [
       "6"
      ]
     },
     "execution_count": 68,
     "metadata": {},
     "output_type": "execute_result"
    }
   ],
   "source": [
    "len(stud_grades)\n",
    "\n"
   ]
  },
  {
   "cell_type": "markdown",
   "id": "8f16c727",
   "metadata": {
    "id": "ALm7hstGjNTB"
   },
   "source": [
    "Create a new variable, stud_grades_set = set(stud_grades)"
   ]
  },
  {
   "cell_type": "code",
   "execution_count": 2,
   "id": "198c5a64",
   "metadata": {},
   "outputs": [],
   "source": [
    "stud_grades_set=set(stud_grades)"
   ]
  },
  {
   "cell_type": "markdown",
   "id": "8e197975",
   "metadata": {
    "id": "JJESkQiJjNTB"
   },
   "source": [
    "Print stud_grades_set. "
   ]
  },
  {
   "cell_type": "code",
   "execution_count": 70,
   "id": "5583cf30-8d6f-41b7-a77b-85a891a68825",
   "metadata": {
    "id": "Q-daiiLPjNTB",
    "outputId": "9b37d1b8-7765-4564-f706-a4f9482b7368"
   },
   "outputs": [
    {
     "name": "stdout",
     "output_type": "stream",
     "text": [
      "{'B', 'A', 'C', 'F'}\n"
     ]
    }
   ],
   "source": [
    "print(stud_grades_set)"
   ]
  },
  {
   "cell_type": "markdown",
   "id": "083e3fc6",
   "metadata": {
    "id": "hNeCPwPOjNTC"
   },
   "source": [
    "print the type of stud_grades and stud_grades_set and print their corresponding elements. Try to understand the difference between them."
   ]
  },
  {
   "cell_type": "code",
   "execution_count": 76,
   "id": "b33daf98",
   "metadata": {
    "id": "g7cntC0ojNTC",
    "outputId": "881a71e0-fd7e-4a3e-c340-95b6e736255a"
   },
   "outputs": [
    {
     "name": "stdout",
     "output_type": "stream",
     "text": [
      "Type is  <class 'list'>  and its elements are  ['A', 'A', 'B', 'C', 'C', 'F']\n",
      "Type is  <class 'set'>  and its elements are  {'B', 'A', 'C', 'F'}\n"
     ]
    }
   ],
   "source": [
    "x=type(stud_grades)\n",
    "print('Type is ', x, ' and its elements are ', stud_grades)\n",
    "\n",
    "y=type(stud_grades_set)\n",
    "print('Type is ', y, ' and its elements are ', stud_grades_set)\n"
   ]
  },
  {
   "cell_type": "markdown",
   "id": "b57e1440",
   "metadata": {
    "id": "WjzzJX8yjNTC"
   },
   "source": [
    "Add a new element ‘G’ to stud_grades_set"
   ]
  },
  {
   "cell_type": "code",
   "execution_count": 80,
   "id": "0d07156b",
   "metadata": {
    "id": "y80DVAlRjNTC"
   },
   "outputs": [],
   "source": [
    "stud_grades_set.add('G')\n"
   ]
  },
  {
   "cell_type": "markdown",
   "id": "8e360d05",
   "metadata": {
    "id": "4TO9zhSJjNTC"
   },
   "source": [
    "Add element 'F' to stud_grades_set. and print it."
   ]
  },
  {
   "cell_type": "code",
   "execution_count": 82,
   "id": "f1888d25",
   "metadata": {
    "id": "Bh4tc1zCjNTC",
    "outputId": "67cdce79-7542-4536-8824-7c3f08855f76"
   },
   "outputs": [
    {
     "name": "stdout",
     "output_type": "stream",
     "text": [
      "{'B', 'C', 'A', 'G', 'F'}\n"
     ]
    }
   ],
   "source": [
    "stud_grades_set.add('F')\n",
    "print(stud_grades_set)\n",
    "\n"
   ]
  },
  {
   "cell_type": "markdown",
   "id": "482722a7",
   "metadata": {
    "id": "FSgM3DD5jNTD"
   },
   "source": [
    "!!Did you notice? set doesn't add an element if it's already present in it, unlike lists."
   ]
  },
  {
   "cell_type": "markdown",
   "id": "cb70953d",
   "metadata": {
    "id": "tqz1GBM5jNTD"
   },
   "source": [
    "Remove ‘F’ from stud_grades_set"
   ]
  },
  {
   "cell_type": "code",
   "execution_count": 83,
   "id": "e74f176e",
   "metadata": {
    "id": "zOLBDdk0jNTD"
   },
   "outputs": [],
   "source": [
    "stud_grades_set.remove('F')\n"
   ]
  },
  {
   "cell_type": "markdown",
   "id": "20f9990b",
   "metadata": {
    "id": "wxMXywoRjNTD"
   },
   "source": [
    "Print the elements and the length of stud_grades_set"
   ]
  },
  {
   "cell_type": "code",
   "execution_count": 84,
   "id": "b3feae08",
   "metadata": {
    "id": "lS582g27jNTD",
    "outputId": "03e846de-16c3-4f74-caf5-b11bb2519b91"
   },
   "outputs": [
    {
     "data": {
      "text/plain": [
       "4"
      ]
     },
     "execution_count": 84,
     "metadata": {},
     "output_type": "execute_result"
    }
   ],
   "source": [
    "len(stud_grades_set)\n",
    "\n"
   ]
  },
  {
   "cell_type": "markdown",
   "id": "f354c270",
   "metadata": {
    "id": "FctCYkNBjNTD"
   },
   "source": [
    "### Create colors = [‘red’,’blue’,’orange’], and fruits = [‘orange’,’grapes’,’apples’] "
   ]
  },
  {
   "cell_type": "code",
   "execution_count": 5,
   "id": "650e2b4a",
   "metadata": {},
   "outputs": [],
   "source": [
    "colors = ['red','blue','orange']\n",
    "fruits = ['orange','grapes','apples']"
   ]
  },
  {
   "cell_type": "markdown",
   "id": "1af023a9",
   "metadata": {
    "id": "kfIRtvphjNTE"
   },
   "source": [
    "Print color and fruits"
   ]
  },
  {
   "cell_type": "code",
   "execution_count": 8,
   "id": "d9a194e8",
   "metadata": {
    "id": "q-gavK0-jNTE",
    "outputId": "6e0c3843-3efe-4e88-8a19-616e2cf4bdb3"
   },
   "outputs": [
    {
     "name": "stdout",
     "output_type": "stream",
     "text": [
      "['red', 'blue', 'orange']\n",
      "['orange', 'grapes', 'apples']\n"
     ]
    }
   ],
   "source": [
    "print(colors)\n",
    "print(fruits)"
   ]
  },
  {
   "cell_type": "markdown",
   "id": "404adbdf",
   "metadata": {
    "id": "uMOTrWwSjNTE"
   },
   "source": [
    "Create colors_set, and fruits_set. (using set() ) and print them"
   ]
  },
  {
   "cell_type": "code",
   "execution_count": 10,
   "id": "202dad00",
   "metadata": {},
   "outputs": [
    {
     "name": "stdout",
     "output_type": "stream",
     "text": [
      "{'blue', 'orange', 'red'}\n",
      "{'grapes', 'orange', 'apples'}\n"
     ]
    }
   ],
   "source": [
    "colors_set=set(colors)\n",
    "print(colors_set)\n",
    "\n",
    "fruits_set=set(fruits)\n",
    "print(fruits_set)"
   ]
  },
  {
   "cell_type": "markdown",
   "id": "490f3e6c",
   "metadata": {
    "id": "tW9fj0R1jNTE"
   },
   "source": [
    "Find the union of both the sets."
   ]
  },
  {
   "cell_type": "code",
   "execution_count": 11,
   "id": "c48f1544",
   "metadata": {
    "id": "oyskI_CTjNTE",
    "outputId": "4e89c025-10ef-405c-cbd4-f8c1ae2f92b4"
   },
   "outputs": [
    {
     "data": {
      "text/plain": [
       "{'apples', 'blue', 'grapes', 'orange', 'red'}"
      ]
     },
     "execution_count": 11,
     "metadata": {},
     "output_type": "execute_result"
    }
   ],
   "source": [
    "colors_set.union(fruits_set)"
   ]
  },
  {
   "cell_type": "markdown",
   "id": "fd6e2cec",
   "metadata": {
    "id": "3yXYgYBLjNTF"
   },
   "source": [
    "Find the intersection of both the sets "
   ]
  },
  {
   "cell_type": "code",
   "execution_count": 13,
   "id": "c3e190fa",
   "metadata": {
    "id": "3AzYqu5sjNTF",
    "outputId": "01ae145a-f15b-4a20-b9bc-9d8a25cf1679"
   },
   "outputs": [
    {
     "data": {
      "text/plain": [
       "{'orange'}"
      ]
     },
     "execution_count": 13,
     "metadata": {},
     "output_type": "execute_result"
    }
   ],
   "source": [
    "colors_set.intersection(fruits_set)\n",
    "\n"
   ]
  },
  {
   "cell_type": "markdown",
   "id": "05d1cac1",
   "metadata": {
    "id": "PuhlSjH_jNTF"
   },
   "source": [
    "Find the elements which are Fruits but not colors (using set.difference() )"
   ]
  },
  {
   "cell_type": "code",
   "execution_count": 14,
   "id": "3f4fe3bb",
   "metadata": {
    "id": "gBaxHXrfjNTF",
    "outputId": "2178193f-aae5-4e59-acc1-8bce28e28143"
   },
   "outputs": [
    {
     "data": {
      "text/plain": [
       "{'apples', 'grapes'}"
      ]
     },
     "execution_count": 14,
     "metadata": {},
     "output_type": "execute_result"
    }
   ],
   "source": [
    "fruits_set.difference(colors_set)\n"
   ]
  },
  {
   "cell_type": "code",
   "execution_count": null,
   "id": "1ead36e2",
   "metadata": {},
   "outputs": [],
   "source": []
  },
  {
   "cell_type": "markdown",
   "id": "4f6be97f",
   "metadata": {
    "id": "hLZeBta3jNTF"
   },
   "source": [
    "## TUPLES"
   ]
  },
  {
   "cell_type": "markdown",
   "id": "4bfc631f",
   "metadata": {
    "id": "Nerhdg66jNTF"
   },
   "source": [
    "### Create temp = [17, ’Virat’, 50.0]"
   ]
  },
  {
   "cell_type": "code",
   "execution_count": 16,
   "id": "85ebf54e",
   "metadata": {},
   "outputs": [],
   "source": [
    "temp = [17, 'Virat', 50.0]"
   ]
  },
  {
   "cell_type": "markdown",
   "id": "d67b17bb",
   "metadata": {
    "id": "C0IuMJFijNTG"
   },
   "source": [
    "Iterate through temp and print all the items in temp"
   ]
  },
  {
   "cell_type": "code",
   "execution_count": 17,
   "id": "53540aa3",
   "metadata": {
    "id": "CSKY_cgHjNTG",
    "outputId": "ec834f68-6713-4941-9fc3-dc0e59965222"
   },
   "outputs": [
    {
     "name": "stdout",
     "output_type": "stream",
     "text": [
      "17\n",
      "Virat\n",
      "50.0\n"
     ]
    }
   ],
   "source": [
    "for i in temp:\n",
    "    print(i)"
   ]
  },
  {
   "cell_type": "markdown",
   "id": "55ac1a8a",
   "metadata": {
    "id": "gI0kBGQ1jNTG"
   },
   "source": [
    "replace first element with 11 in temp"
   ]
  },
  {
   "cell_type": "code",
   "execution_count": 24,
   "id": "c1cc7467",
   "metadata": {
    "id": "p6JCtyOBjNTG"
   },
   "outputs": [],
   "source": [
    "temp[0]=11"
   ]
  },
  {
   "cell_type": "markdown",
   "id": "ca8f7854",
   "metadata": {
    "id": "JV3b34AdjNTG"
   },
   "source": [
    "Set temp1 = tuple(temp)"
   ]
  },
  {
   "cell_type": "code",
   "execution_count": 34,
   "id": "1f1820a7",
   "metadata": {},
   "outputs": [],
   "source": [
    "temp1=tuple(temp)"
   ]
  },
  {
   "cell_type": "markdown",
   "id": "2487fea4",
   "metadata": {
    "id": "Z9LJWgBkjNTG"
   },
   "source": [
    "Iterate through temp1 and print all the items in temp1. "
   ]
  },
  {
   "cell_type": "code",
   "execution_count": 26,
   "id": "828e5d4b",
   "metadata": {
    "id": "t0v-FZsNjNTH",
    "outputId": "7f98ae38-8bae-4687-f46b-31fb12ac5c6c"
   },
   "outputs": [
    {
     "name": "stdout",
     "output_type": "stream",
     "text": [
      "11\n",
      "Virat\n",
      "50.0\n"
     ]
    }
   ],
   "source": [
    "for i in temp1:\n",
    "    print(i)\n"
   ]
  },
  {
   "cell_type": "markdown",
   "id": "70e7b110",
   "metadata": {
    "id": "A4FXMQDfjNTH"
   },
   "source": [
    "replace first element with 17 in temp1"
   ]
  },
  {
   "cell_type": "code",
   "execution_count": 35,
   "id": "611343d6",
   "metadata": {
    "id": "eioDSdW8jNTH",
    "outputId": "bf108fa6-bcad-4684-dc24-b9efbfc357a8"
   },
   "outputs": [
    {
     "name": "stdout",
     "output_type": "stream",
     "text": [
      "(17, 'Virat', 50.0)\n"
     ]
    }
   ],
   "source": [
    "list1=list(temp1)\n",
    "list1[0]=17\n",
    "\n",
    "temp1=tuple(list1)\n",
    "print(temp1)"
   ]
  },
  {
   "cell_type": "markdown",
   "id": "b4a2e488",
   "metadata": {
    "id": "IuGIObFZjNTH"
   },
   "source": [
    "<b>Oops!! You got an error. Hey Don't worry! Its because Once a tuple is created, you cannot change its values unlike list.</b>"
   ]
  },
  {
   "cell_type": "markdown",
   "id": "3b499d26",
   "metadata": {
    "id": "ExB_cM1ZjNTH"
   },
   "source": [
    "### Create city = (\"Bangalore\", 28.9949521, 72)"
   ]
  },
  {
   "cell_type": "code",
   "execution_count": 46,
   "id": "eb27bc7a",
   "metadata": {
    "id": "fWz52DjjjNTH"
   },
   "outputs": [],
   "source": [
    "city = (\"Bangalore\", 28.9949521, 72)"
   ]
  },
  {
   "cell_type": "markdown",
   "id": "c5e762e5",
   "metadata": {
    "id": "v4ipyqXsjNTH"
   },
   "source": [
    "Print first element of city"
   ]
  },
  {
   "cell_type": "code",
   "execution_count": 47,
   "id": "5f73bc43",
   "metadata": {
    "id": "KJHMuFk1jNTI",
    "outputId": "f3915b36-1f5b-4ac1-e2bb-a53f9ce142f8"
   },
   "outputs": [
    {
     "name": "stdout",
     "output_type": "stream",
     "text": [
      "Bangalore\n"
     ]
    }
   ],
   "source": [
    "print(city[0])"
   ]
  },
  {
   "cell_type": "markdown",
   "id": "fb45d2f3",
   "metadata": {
    "id": "N5FoHg4ujNTI"
   },
   "source": [
    "Create city2 = (‘Chennai’, 30.01, 74)"
   ]
  },
  {
   "cell_type": "code",
   "execution_count": 48,
   "id": "3a7fc4b7",
   "metadata": {
    "id": "fYuGqbDEjNTI"
   },
   "outputs": [],
   "source": [
    "city2 = ('Chennai', 30.01, 74)"
   ]
  },
  {
   "cell_type": "markdown",
   "id": "e948e3f5",
   "metadata": {
    "id": "0gz-HACUjNTI"
   },
   "source": [
    "Create cities which consist of city and city2"
   ]
  },
  {
   "cell_type": "code",
   "execution_count": 49,
   "id": "2c9470db",
   "metadata": {
    "id": "5dTN1LQPjNTI"
   },
   "outputs": [],
   "source": [
    "cities=city+city2"
   ]
  },
  {
   "cell_type": "markdown",
   "id": "743cb31b",
   "metadata": {
    "id": "He-teRi2jNTI"
   },
   "source": [
    "Print cities"
   ]
  },
  {
   "cell_type": "code",
   "execution_count": 50,
   "id": "c882c507",
   "metadata": {
    "id": "ISySNfxGjNTI",
    "outputId": "bee231a2-a635-496f-b5b7-57795a0fd7ab"
   },
   "outputs": [
    {
     "name": "stdout",
     "output_type": "stream",
     "text": [
      "('Bangalore', 28.9949521, 72, 'Chennai', 30.01, 74)\n"
     ]
    }
   ],
   "source": [
    "print(cities)"
   ]
  },
  {
   "cell_type": "markdown",
   "id": "87988fcc",
   "metadata": {
    "id": "brFx6-rtjNTJ"
   },
   "source": [
    "Print type of first element in cities"
   ]
  },
  {
   "cell_type": "code",
   "execution_count": 52,
   "id": "89c14064",
   "metadata": {
    "id": "CmIifGybjNTJ",
    "outputId": "085cb498-1027-4ce6-8803-904d39050a97"
   },
   "outputs": [
    {
     "data": {
      "text/plain": [
       "str"
      ]
     },
     "execution_count": 52,
     "metadata": {},
     "output_type": "execute_result"
    }
   ],
   "source": [
    "type(cities[0])"
   ]
  },
  {
   "cell_type": "markdown",
   "id": "1d9893b1",
   "metadata": {
    "id": "jtk8J_yHjNTJ"
   },
   "source": [
    "print the type of cities\n"
   ]
  },
  {
   "cell_type": "code",
   "execution_count": 53,
   "id": "1881be7a",
   "metadata": {
    "id": "y9rdG29XjNTJ",
    "outputId": "2d1e34cb-5b76-44b4-e806-9287ee31fa87"
   },
   "outputs": [
    {
     "data": {
      "text/plain": [
       "tuple"
      ]
     },
     "execution_count": 53,
     "metadata": {},
     "output_type": "execute_result"
    }
   ],
   "source": [
    "type(cities)"
   ]
  },
  {
   "cell_type": "markdown",
   "id": "d13d1eeb",
   "metadata": {
    "id": "uXHSadWqjNTJ"
   },
   "source": [
    "Hey that implies you made a nested tuples!!"
   ]
  },
  {
   "cell_type": "markdown",
   "id": "aac6424a",
   "metadata": {
    "id": "zViY-S_djNTJ"
   },
   "source": [
    "## DICTIONARY"
   ]
  },
  {
   "cell_type": "markdown",
   "id": "80798169",
   "metadata": {
    "id": "4NjUxRaZjNTK"
   },
   "source": [
    "### Create a dictionary d = {\"actor\":\"amir\",\"animal\":\"cat\",\"earth\":2,\"list\":[23,32,12]}"
   ]
  },
  {
   "cell_type": "code",
   "execution_count": 54,
   "id": "7fbcf05e",
   "metadata": {
    "id": "UCtEFPI4jNTK"
   },
   "outputs": [],
   "source": [
    "d = {\"actor\":\"amir\",\"animal\":\"cat\",\"earth\":2,\"list\":[23,32,12]}"
   ]
  },
  {
   "cell_type": "markdown",
   "id": "fdb2b59d",
   "metadata": {
    "id": "OamenDk8jNTK"
   },
   "source": [
    "Print the value of d[0]"
   ]
  },
  {
   "cell_type": "code",
   "execution_count": 58,
   "id": "0773a59f-c9b1-4d98-bd39-950f7805f0f9",
   "metadata": {
    "id": "gion3awcjNTK",
    "outputId": "59a88b33-f80a-4448-8c92-262c242ca689"
   },
   "outputs": [
    {
     "ename": "KeyError",
     "evalue": "0",
     "output_type": "error",
     "traceback": [
      "\u001b[1;31m---------------------------------------------------------------------------\u001b[0m",
      "\u001b[1;31mKeyError\u001b[0m                                  Traceback (most recent call last)",
      "Cell \u001b[1;32mIn[58], line 1\u001b[0m\n\u001b[1;32m----> 1\u001b[0m \u001b[38;5;28mprint\u001b[39m(\u001b[43md\u001b[49m\u001b[43m[\u001b[49m\u001b[38;5;241;43m0\u001b[39;49m\u001b[43m]\u001b[49m)\n",
      "\u001b[1;31mKeyError\u001b[0m: 0"
     ]
    }
   ],
   "source": [
    "print(d[0])"
   ]
  },
  {
   "cell_type": "markdown",
   "id": "a9460afb",
   "metadata": {
    "id": "XYtrrUigjNTK"
   },
   "source": [
    "<b>Oops!! again an error. again a fun fact. Dictionary return the value for key if key is in the dictionary, else throws KeyError\n",
    "and we don't have key 0 here :( </b>"
   ]
  },
  {
   "cell_type": "markdown",
   "id": "2b2aeb56",
   "metadata": {
    "id": "62VXYnw1jNTK"
   },
   "source": [
    "Store the value of d[‘actor’] to a new variable actor."
   ]
  },
  {
   "cell_type": "code",
   "execution_count": 59,
   "id": "636075cb",
   "metadata": {
    "id": "kkBfNz81jNTK"
   },
   "outputs": [],
   "source": [
    "actor=d['actor']"
   ]
  },
  {
   "cell_type": "markdown",
   "id": "7b87aefb",
   "metadata": {
    "id": "uFfuF569jNTL"
   },
   "source": [
    "Print the type of actor"
   ]
  },
  {
   "cell_type": "code",
   "execution_count": 61,
   "id": "dbdf9ebc-0464-4b57-8304-f09653e61692",
   "metadata": {
    "id": "bKbFXBxyjNTL",
    "outputId": "ec200684-a8ac-403e-9aea-ca06a015a12e"
   },
   "outputs": [
    {
     "data": {
      "text/plain": [
       "str"
      ]
     },
     "execution_count": 61,
     "metadata": {},
     "output_type": "execute_result"
    }
   ],
   "source": [
    "type(actor)"
   ]
  },
  {
   "cell_type": "markdown",
   "id": "69728e11",
   "metadata": {
    "id": "y549qN04jNTL"
   },
   "source": [
    "Store the value of d[‘list’] in new variable List. "
   ]
  },
  {
   "cell_type": "code",
   "execution_count": 62,
   "id": "22acb200",
   "metadata": {
    "id": "I7GyOK8DjNTL"
   },
   "outputs": [],
   "source": [
    "list=d['list']"
   ]
  },
  {
   "cell_type": "markdown",
   "id": "96f07afd",
   "metadata": {
    "id": "Ul1YMiuNjNTL"
   },
   "source": [
    "Print the type of List. "
   ]
  },
  {
   "cell_type": "code",
   "execution_count": 64,
   "id": "f65ea780-7367-48f8-8515-26816f4727a5",
   "metadata": {
    "id": "V0VdG9y_jNTL",
    "outputId": "ca19430d-bd1d-456a-cb91-c156f73fe9b1"
   },
   "outputs": [
    {
     "data": {
      "text/plain": [
       "list"
      ]
     },
     "execution_count": 64,
     "metadata": {},
     "output_type": "execute_result"
    }
   ],
   "source": [
    "type(list)"
   ]
  },
  {
   "cell_type": "markdown",
   "id": "5e5e9d2b",
   "metadata": {
    "id": "A0CEMABhjNTL"
   },
   "source": [
    "Create d1 = { ‘singer’ : ‘Kr$na’ , ‘album’: ‘Still here’, ‘genre’ : ‘hip-hop’}"
   ]
  },
  {
   "cell_type": "code",
   "execution_count": 67,
   "id": "1a4a39c8",
   "metadata": {
    "id": "FCGCw5FEjNTL"
   },
   "outputs": [],
   "source": [
    "d1 = { 'singer' : 'Kr$na' , 'album': 'Still here', 'genre' : 'hip-hop'}"
   ]
  },
  {
   "cell_type": "markdown",
   "id": "e2fde47c",
   "metadata": {
    "id": "ybGIILrLjNTM"
   },
   "source": [
    "Merge d1 into d."
   ]
  },
  {
   "cell_type": "code",
   "execution_count": 68,
   "id": "f1363007",
   "metadata": {
    "id": "UmDbbQJPjNTM"
   },
   "outputs": [],
   "source": [
    "d.update(d1)"
   ]
  },
  {
   "cell_type": "markdown",
   "id": "3536d1c1",
   "metadata": {
    "id": "jhAPX45ZjNTM"
   },
   "source": [
    "print d"
   ]
  },
  {
   "cell_type": "code",
   "execution_count": 69,
   "id": "d48ed7d0",
   "metadata": {
    "id": "785S26ryjNTM",
    "outputId": "82043717-4c5e-4622-8e11-f13d74dd5cc4"
   },
   "outputs": [
    {
     "name": "stdout",
     "output_type": "stream",
     "text": [
      "{'actor': 'amir', 'animal': 'cat', 'earth': 2, 'list': [23, 32, 12], 'singer': 'Kr$na', 'album': 'Still here', 'genre': 'hip-hop'}\n"
     ]
    }
   ],
   "source": [
    "print(d)"
   ]
  },
  {
   "cell_type": "markdown",
   "id": "4a990970",
   "metadata": {
    "id": "9E852mY2jNTM"
   },
   "source": [
    "Print all the keys in d"
   ]
  },
  {
   "cell_type": "code",
   "execution_count": 71,
   "id": "79ae3424",
   "metadata": {
    "id": "7K843OrLjNTM",
    "outputId": "4336a57d-eabe-47a7-d910-82c5c8614754"
   },
   "outputs": [
    {
     "name": "stdout",
     "output_type": "stream",
     "text": [
      "dict_keys(['actor', 'animal', 'earth', 'list', 'singer', 'album', 'genre'])\n"
     ]
    }
   ],
   "source": [
    "print(d.keys())"
   ]
  },
  {
   "cell_type": "markdown",
   "id": "0695fc3b",
   "metadata": {
    "id": "fiuzxbGkjNTN"
   },
   "source": [
    "Print all the values in d"
   ]
  },
  {
   "cell_type": "code",
   "execution_count": 73,
   "id": "eef6c37d",
   "metadata": {
    "id": "Pyhh6r0pjNTN",
    "outputId": "8d13b380-1e1f-418c-84e6-ac0638a056e2"
   },
   "outputs": [
    {
     "name": "stdout",
     "output_type": "stream",
     "text": [
      "dict_values(['amir', 'cat', 2, [23, 32, 12], 'Kr$na', 'Still here', 'hip-hop'])\n"
     ]
    }
   ],
   "source": [
    "print(d.values())"
   ]
  },
  {
   "cell_type": "markdown",
   "id": "19a818db",
   "metadata": {
    "id": "XSoe8GWmjNTN"
   },
   "source": [
    "Iterate over d, and print each key, value pair as this - (actor ----> amir)"
   ]
  },
  {
   "cell_type": "code",
   "execution_count": 87,
   "id": "22d8b2ae",
   "metadata": {
    "id": "O0iW9kiqjNTO",
    "outputId": "d9ab5c07-3de4-4939-dd9e-d6ff75c9aa07"
   },
   "outputs": [
    {
     "name": "stdout",
     "output_type": "stream",
     "text": [
      "dict_keys(['actor', 'animal', 'earth', 'list', 'singer', 'album', 'genre'])\n",
      "dict_values(['amir', 'cat', 2, [23, 32, 12], 'Kr$na', 'Still here', 'hip-hop'])\n"
     ]
    }
   ],
   "source": [
    "for i in d.keys(),d.values():\n",
    "   print(i)"
   ]
  },
  {
   "cell_type": "markdown",
   "id": "9604be1e",
   "metadata": {
    "id": "Hhzm-EIsjNTO"
   },
   "source": [
    "count the number of occurences of charachters in string named \"sent\" using dictionary and print the same.\n"
   ]
  },
  {
   "cell_type": "code",
   "execution_count": 89,
   "id": "a75ce087",
   "metadata": {
    "id": "IvRlvUAljNTP",
    "outputId": "40f08e65-b884-4b00-aaf4-2cacd1083752"
   },
   "outputs": [],
   "source": [
    "def word_count(str):\n",
    "    counts=dict()\n",
    "    words=str.split(' ')\n",
    "\n",
    "    for word in words:\n",
    "        if word in counts:\n",
    "          counts[word]+=1\n",
    "        else:\n",
    "            counts[word]=1\n",
    "\n",
    "    return counts\n",
    "\n"
   ]
  },
  {
   "cell_type": "code",
   "execution_count": 91,
   "id": "b1c260df",
   "metadata": {
    "id": "ebNwyxUujNTP"
   },
   "outputs": [
    {
     "data": {
      "text/plain": [
       "{'the': 2,\n",
       " 'quick': 1,\n",
       " 'brown': 1,\n",
       " 'fox': 1,\n",
       " 'jump': 1,\n",
       " 'over': 1,\n",
       " 'lazy': 1,\n",
       " 'dog': 1}"
      ]
     },
     "execution_count": 91,
     "metadata": {},
     "output_type": "execute_result"
    }
   ],
   "source": [
    "sent=\"the quick brown fox jump over the lazy dog\"\n",
    "word_count(sent)"
   ]
  },
  {
   "cell_type": "code",
   "execution_count": null,
   "id": "4c82a8c3-59ef-4847-bcc2-352972b1d30b",
   "metadata": {},
   "outputs": [],
   "source": []
  }
 ],
 "metadata": {
  "colab": {
   "collapsed_sections": [],
   "provenance": []
  },
  "kernelspec": {
   "display_name": "Python 3 (ipykernel)",
   "language": "python",
   "name": "python3"
  },
  "language_info": {
   "codemirror_mode": {
    "name": "ipython",
    "version": 3
   },
   "file_extension": ".py",
   "mimetype": "text/x-python",
   "name": "python",
   "nbconvert_exporter": "python",
   "pygments_lexer": "ipython3",
   "version": "3.12.2"
  }
 },
 "nbformat": 4,
 "nbformat_minor": 5
}
